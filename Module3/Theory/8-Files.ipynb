{
 "cells": [
  {
   "cell_type": "markdown",
   "metadata": {},
   "source": [
    "# File class"
   ]
  },
  {
   "cell_type": "code",
   "execution_count": 3,
   "metadata": {},
   "outputs": [],
   "source": [
    "import java.io.File;"
   ]
  },
  {
   "cell_type": "code",
   "execution_count": 5,
   "metadata": {},
   "outputs": [],
   "source": [
    "File file = new File(\"C:\\\\Users\\\\User\\\\Documents\\\\FPSMonitor.txt\");"
   ]
  },
  {
   "cell_type": "code",
   "execution_count": 2,
   "metadata": {},
   "outputs": [
    {
     "name": "stdout",
     "output_type": "stream",
     "text": [
      "\\\n"
     ]
    }
   ],
   "source": [
    "System.out.println(File.separator);"
   ]
  },
  {
   "cell_type": "code",
   "execution_count": 6,
   "metadata": {},
   "outputs": [
    {
     "name": "stdout",
     "output_type": "stream",
     "text": [
      "File name: FPSMonitor.txt\n",
      "File path: C:\\Users\\User\\Documents\\FPSMonitor.txt\n",
      "Is file: true\n",
      "Is directory: false\n",
      "Exists: true\n",
      "Parent path:C:\\Users\\User\\Documents\n"
     ]
    }
   ],
   "source": [
    "System.out.println(\"File name: \" + file.getName());\n",
    "System.out.println(\"File path: \" + file.getPath());\n",
    "System.out.println(\"Is file: \" + file.isFile());\n",
    "System.out.println(\"Is directory: \" + file.isDirectory());\n",
    "System.out.println(\"Exists: \" + file.exists());\n",
    "System.out.println(\"Parent path:\" + file.getParent());"
   ]
  },
  {
   "cell_type": "code",
   "execution_count": 7,
   "metadata": {},
   "outputs": [
    {
     "name": "stdout",
     "output_type": "stream",
     "text": [
      "File name: Somewhat.txt\n",
      "File path: C:\\Users\\User\\Somewhat.txt\n",
      "Is file: false\n",
      "Is directory: false\n",
      "Exists: false\n",
      "Parent path:C:\\Users\\User\n"
     ]
    }
   ],
   "source": [
    "File notexistingfile = new File(\"C:\\\\Users\\\\User\\\\Somewhat.txt\");\n",
    "System.out.println(\"File name: \" + notexistingfile.getName());\n",
    "System.out.println(\"File path: \" + notexistingfile.getPath());\n",
    "System.out.println(\"Is file: \" + notexistingfile.isFile());\n",
    "System.out.println(\"Is directory: \" + notexistingfile.isDirectory());\n",
    "System.out.println(\"Exists: \" + notexistingfile.exists());\n",
    "System.out.println(\"Parent path:\" + notexistingfile.getParent())"
   ]
  },
  {
   "cell_type": "markdown",
   "metadata": {},
   "source": [
    "## Basic methods:\n",
    "* String __getPath()__ returns the string path to this file or directory;\n",
    "* String __getName()__ returns the name of this file or directory (just the last name of the path)\n",
    "* boolean __isDirectory()__ returns true if it is a directory and exists, otherwise, false;\n",
    "* boolean __isFile()__ returns true it is a file (not a directory) and exists, otherwise, false;\n",
    "* boolean __exists()__ returns true if this file or directory actually exists in your file system, otherwise, false;\n",
    "* String __getParent()__ returns the string path to the parent directory that contains this file or directory;\n",
    "* __canRead()__\n",
    "* __canWrite()__\n",
    "* __canExecute()__"
   ]
  }
 ],
 "metadata": {
  "kernelspec": {
   "display_name": "Java",
   "language": "java",
   "name": "java"
  },
  "language_info": {
   "codemirror_mode": "java",
   "file_extension": ".java",
   "mimetype": "text/x-java-source",
   "name": "Java",
   "pygments_lexer": "java",
   "version": "11.0.2+9-LTS"
  }
 },
 "nbformat": 4,
 "nbformat_minor": 2
}
