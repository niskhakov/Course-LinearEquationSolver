{
 "cells": [
  {
   "cell_type": "markdown",
   "metadata": {},
   "source": [
    "__Calculator - 1 task:__"
   ]
  },
  {
   "cell_type": "code",
   "execution_count": 1,
   "metadata": {},
   "outputs": [],
   "source": [
    "class Problem {\n",
    "\n",
    "    public static void main(String args[]) {\n",
    "\t\tswitch(args[0]) {\n",
    "            case \"+\":\n",
    "                System.out.println(Integer.parseInt(args[1]) + Integer.parseInt(args[2]));\n",
    "                break;\n",
    "            case \"-\":\n",
    "                System.out.println(Integer.parseInt(args[1]) - Integer.parseInt(args[2]));\n",
    "                break;\n",
    "            case \"*\":\n",
    "                System.out.println(Integer.parseInt(args[1]) * Integer.parseInt(args[2]));\n",
    "                break;\n",
    "            default:\n",
    "                System.out.println(\"Unknown operator\");\n",
    "        }\n",
    "    }\n",
    "}"
   ]
  },
  {
   "cell_type": "markdown",
   "metadata": {},
   "source": [
    "__The index of the argument task:__"
   ]
  },
  {
   "cell_type": "code",
   "execution_count": 2,
   "metadata": {},
   "outputs": [],
   "source": [
    "class Problem {\n",
    "\n",
    "    public static void main(String args[]) {\n",
    "\t\tfor(int i = 0 ; i < args.length; i++) {\n",
    "            if(args[i].equals(\"test\")) {\n",
    "                System.out.println(i);\n",
    "                return;\n",
    "            }\n",
    "        }\n",
    "        System.out.println(-1);\n",
    "    }\n",
    "}"
   ]
  },
  {
   "cell_type": "markdown",
   "metadata": {},
   "source": [
    "__Calculator - 2 task:__"
   ]
  },
  {
   "cell_type": "code",
   "execution_count": 3,
   "metadata": {},
   "outputs": [],
   "source": [
    "class Problem {\n",
    "\n",
    "    public static void main(String args[]) {\n",
    "\n",
    "        switch(args[0]) {\n",
    "            case \"MAX\":\n",
    "                int max = Integer.parseInt(args[1]);\n",
    "                for(int i = 1; i < args.length; i++) {\n",
    "                    max = Integer.parseInt(args[i]) > max ? Integer.parseInt(args[i]) : max;\n",
    "                }\n",
    "                System.out.println(max);\n",
    "                break;\n",
    "            case \"MIN\":\n",
    "                int min = Integer.parseInt(args[1]);\n",
    "                for(int i = 1; i < args.length; i++) {\n",
    "                    min = Integer.parseInt(args[i]) < min ? Integer.parseInt(args[i]) : min;\n",
    "                } \n",
    "                System.out.println(min);\n",
    "                break;\n",
    "            case \"SUM\":\n",
    "                int sum = 0;\n",
    "                for(int i = 1; i < args.length; i++) {\n",
    "                    sum += Integer.parseInt(args[i]);\n",
    "                }\n",
    "                System.out.println(sum);\n",
    "                break;\n",
    "                    \n",
    "        }\n",
    "    }\n",
    "}"
   ]
  }
 ],
 "metadata": {
  "kernelspec": {
   "display_name": "Java",
   "language": "java",
   "name": "java"
  },
  "language_info": {
   "codemirror_mode": "java",
   "file_extension": ".java",
   "mimetype": "text/x-java-source",
   "name": "Java",
   "pygments_lexer": "java",
   "version": "11.0.2+9-LTS"
  }
 },
 "nbformat": 4,
 "nbformat_minor": 2
}
