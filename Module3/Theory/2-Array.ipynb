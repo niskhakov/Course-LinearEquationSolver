{
 "cells": [
  {
   "cell_type": "code",
   "execution_count": 1,
   "metadata": {},
   "outputs": [],
   "source": [
    "int[] array; // declaration's form 1\n",
    "int array[]; // declaration's form 2: less used in practice"
   ]
  },
  {
   "cell_type": "markdown",
   "metadata": {},
   "source": [
    "* declaration\n",
    "* instantiation\n",
    "* initialization"
   ]
  },
  {
   "cell_type": "code",
   "execution_count": 2,
   "metadata": {},
   "outputs": [],
   "source": [
    "int[] numbers = { 1, 2, 3, 4 }; // an array of 1, 2, 3, 4\n",
    "int a = 1, b = 2, c = 3, d = 4;\n",
    "int[] numbers = { a, b, c, d }; // an array of 1, 2, 3, 4"
   ]
  },
  {
   "cell_type": "code",
   "execution_count": 3,
   "metadata": {},
   "outputs": [],
   "source": [
    "int n = 5; // n is a length of an array\n",
    "int[] numbers = new int[n];"
   ]
  },
  {
   "cell_type": "code",
   "execution_count": 4,
   "metadata": {},
   "outputs": [],
   "source": [
    "int[] numbers;\n",
    "numbers = new int[n];"
   ]
  },
  {
   "cell_type": "code",
   "execution_count": 5,
   "metadata": {},
   "outputs": [],
   "source": [
    "float[] floatNumbers; // declaration \n",
    "floatNumbers = new float[] { 1.02f, 0.03f, 4f } // instantiation and initialization"
   ]
  },
  {
   "cell_type": "code",
   "execution_count": 6,
   "metadata": {},
   "outputs": [],
   "source": [
    "char[] chars1 = new char[n]; // [] after the type\n",
    "char chars2[] = new char[n]; // [] after the variable"
   ]
  },
  {
   "cell_type": "code",
   "execution_count": 7,
   "metadata": {},
   "outputs": [
    {
     "name": "stdout",
     "output_type": "stream",
     "text": [
      "4\n"
     ]
    }
   ],
   "source": [
    "int[] array = { 1, 2, 3, 4 }; // an array of numbers\n",
    "        \n",
    "int length = array.length; // number of elements of the array\n",
    "        \n",
    "System.out.println(length); // 4"
   ]
  },
  {
   "cell_type": "code",
   "execution_count": 8,
   "metadata": {},
   "outputs": [
    {
     "data": {
      "text/plain": [
       "3"
      ]
     },
     "execution_count": 8,
     "metadata": {},
     "output_type": "execute_result"
    }
   ],
   "source": [
    "int numbers[] = new int[3]; // numbers: [0, 0, 0]\n",
    "numbers[0] = 1; // numbers: [1, 0, 0]\n",
    "numbers[1] = 2; // numbers: [1, 2, 0]\n",
    "numbers[2] = numbers[0] + numbers[1]; // numbers: [1, 2, 3]"
   ]
  },
  {
   "cell_type": "code",
   "execution_count": 9,
   "metadata": {},
   "outputs": [
    {
     "ename": "EvalException",
     "evalue": "Index 3 out of bounds for length 3",
     "output_type": "error",
     "traceback": [
      "\u001b[1m\u001b[31m---------------------------------------------------------------------------\u001b[0m",
      "\u001b[1m\u001b[31mjava.lang.ArrayIndexOutOfBoundsException: Index 3 out of bounds for length 3\u001b[0m",
      "\u001b[1m\u001b[31m\tat .(#35:1)\u001b[0m"
     ]
    }
   ],
   "source": [
    "int elem = numbers[3];"
   ]
  },
  {
   "cell_type": "markdown",
   "metadata": {},
   "source": [
    "The utility class Arrays:\n",
    "* convert array to string using Arrays.toString(array)\n",
    "* sorting a whole array or a part of it using Arrays.sort(array)\n",
    "* comparing arrays: two arrays are equal if they contain the same elements in the same order: ArrayS.equals(array1, array2)\n",
    "* filling a whole array or a part of it by some values Arrays.fill(..)\n"
   ]
  },
  {
   "cell_type": "code",
   "execution_count": 11,
   "metadata": {},
   "outputs": [
    {
     "name": "stdout",
     "output_type": "stream",
     "text": [
      "[0, 1, 2, 4, 8, 16, 32, 64]\n"
     ]
    }
   ],
   "source": [
    "byte[] famousNumbers = { 0, 1, 2, 4, 8, 16, 32, 64 };\n",
    "String arrayAsString = Arrays.toString(famousNumbers); //  [0, 1, 2, 4, 8, 16, 32, 64]\n",
    "System.out.println(arrayAsString);"
   ]
  },
  {
   "cell_type": "code",
   "execution_count": 12,
   "metadata": {},
   "outputs": [
    {
     "name": "stdout",
     "output_type": "stream",
     "text": [
      "[100000000, 200000000, 300000000, 400000000]\n"
     ]
    }
   ],
   "source": [
    "long[] bigNumbers = { 200000000L, 400000000L, 100000000L, 300000000L }; // it's unsorted\n",
    "\n",
    "Arrays.sort(bigNumbers); // sorting whole array\n",
    " \n",
    "System.out.println(Arrays.toString(bigNumbers)); // [100000000, 200000000, 300000000, 400000000]"
   ]
  },
  {
   "cell_type": "code",
   "execution_count": 13,
   "metadata": {},
   "outputs": [
    {
     "name": "stdout",
     "output_type": "stream",
     "text": [
      "false\n",
      "true\n"
     ]
    }
   ],
   "source": [
    "int[] numbers1 = { 1, 2, 5, 8 };\n",
    "int[] numbers2 = { 1, 2, 5 };\n",
    "int[] numbers3 = { 1, 2, 5, 8 };\n",
    "\n",
    "System.out.println(Arrays.equals(numbers1, numbers2)); // it prints \"false\"\n",
    "System.out.println(Arrays.equals(numbers1, numbers3)); // it prints \"true\""
   ]
  },
  {
   "cell_type": "code",
   "execution_count": 14,
   "metadata": {},
   "outputs": [
    {
     "name": "stdout",
     "output_type": "stream",
     "text": [
      "[A, A, A, A, A, B, B, B, B, B]\n"
     ]
    }
   ],
   "source": [
    "int size = 10;\n",
    "char[] characters = new char[size];\n",
    "\n",
    "// It takes an array, start index, end index (exclusive) and the value for filling the array\n",
    "Arrays.fill(characters, 0, size / 2, 'A'); \n",
    "Arrays.fill(characters, size / 2, size, 'B');\n",
    "\n",
    "System.out.println(Arrays.toString(characters)); // it prints [A, A, A, A, A, B, B, B, B, B]"
   ]
  },
  {
   "cell_type": "markdown",
   "metadata": {},
   "source": [
    "__Fill the array task:__"
   ]
  },
  {
   "cell_type": "code",
   "execution_count": 16,
   "metadata": {},
   "outputs": [],
   "source": [
    "import java.util.Arrays;\n",
    "import java.util.Scanner;"
   ]
  },
  {
   "cell_type": "code",
   "execution_count": 17,
   "metadata": {},
   "outputs": [
    {
     "name": "stdin",
     "output_type": "stream",
     "text": [
      " 10 20\n"
     ]
    },
    {
     "name": "stdout",
     "output_type": "stream",
     "text": [
      "[20, 20, 20, 20, 20, 20, 20, 20, 20, 20]\n"
     ]
    }
   ],
   "source": [
    "Scanner scanner = new Scanner(System.in);\n",
    "int n = scanner.nextInt();\n",
    "int m = scanner.nextInt();\n",
    "\n",
    "int[] numbers = new int[n];\n",
    "Arrays.fill(numbers, 0, n, m);\n",
    "System.out.println(Arrays.toString(numbers));"
   ]
  }
 ],
 "metadata": {
  "kernelspec": {
   "display_name": "Java",
   "language": "java",
   "name": "java"
  },
  "language_info": {
   "codemirror_mode": "java",
   "file_extension": ".java",
   "mimetype": "text/x-java-source",
   "name": "Java",
   "pygments_lexer": "java",
   "version": "11.0.1+13-LTS"
  }
 },
 "nbformat": 4,
 "nbformat_minor": 2
}
