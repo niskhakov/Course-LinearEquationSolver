{
 "cells": [
  {
   "cell_type": "markdown",
   "metadata": {},
   "source": [
    "## Varargs"
   ]
  },
  {
   "cell_type": "code",
   "execution_count": 1,
   "metadata": {},
   "outputs": [],
   "source": [
    "public static void printNumberOfArguments(int... numbers) {\n",
    "    System.out.println(numbers.length);\n",
    "}"
   ]
  },
  {
   "cell_type": "code",
   "execution_count": 2,
   "metadata": {},
   "outputs": [
    {
     "name": "stdout",
     "output_type": "stream",
     "text": [
      "1\n",
      "2\n",
      "3\n",
      "0\n",
      "2\n"
     ]
    }
   ],
   "source": [
    "printNumberOfArguments(1);\n",
    "printNumberOfArguments(1, 2);\n",
    "printNumberOfArguments(1, 2, 3);\n",
    "printNumberOfArguments(new int[] { }); // no arguments here\n",
    "printNumberOfArguments(new int[] { 1, 2 });"
   ]
  },
  {
   "cell_type": "markdown",
   "metadata": {},
   "source": [
    "__Inverse boolean flags task:__"
   ]
  },
  {
   "cell_type": "code",
   "execution_count": 9,
   "metadata": {},
   "outputs": [],
   "source": [
    "import java.util.*;\n",
    "import java.util.stream.Collectors;"
   ]
  },
  {
   "cell_type": "code",
   "execution_count": 10,
   "metadata": {},
   "outputs": [
    {
     "name": "stdin",
     "output_type": "stream",
     "text": [
      " true false true\n"
     ]
    },
    {
     "name": "stdout",
     "output_type": "stream",
     "text": [
      "false true false\n"
     ]
    }
   ],
   "source": [
    "public static void inverseFlags(boolean... flags) {\n",
    "    for(int i = 0; i < flags.length; i++) {\n",
    "        flags[i] = !flags[i];\n",
    "    }\n",
    "}\n",
    "\n",
    "/* Do not change code below */\n",
    "public static void main(String args[]) {\n",
    "    final Scanner scanner = new Scanner(System.in);                                                                                                                                                                                                                                                                                                                                                                                                                                                                                                                                                                                                                                                                                                                                                                                                                                                                                                                                                                                                                                                                                                                                                                                                                                                                                                                                                                                                                                                                                                                                                                                                                                                                                                                                                                                                                                                                                                                                                                                                                                                                                                                                                                                                                                                                                                                                                                                                                                                                                                                                                                                                                                                                                                                                                                                                                                                                                                                                                                                                                                                                                                                                                                                                                                                                                                           \n",
    "    final List<Boolean> booleans = Arrays\n",
    "            .stream(scanner.nextLine().split(\"\\\\s+\"))\n",
    "            .map(Boolean::parseBoolean)\n",
    "            .collect(Collectors.toList());\n",
    "    final boolean[] flags = new boolean[booleans.size()];\n",
    "    for (int i = 0; i < flags.length; i++) {\n",
    "        flags[i] = booleans.get(i);\n",
    "    }\n",
    "    inverseFlags(flags);\n",
    "    final String representation = Arrays.toString(flags)\n",
    "            .replace(\"[\", \"\")\n",
    "            .replace(\"]\", \"\")\n",
    "            .replace(\",\", \"\");\n",
    "    System.out.println(representation);\n",
    "}\n",
    "\n",
    "main(null);"
   ]
  },
  {
   "cell_type": "markdown",
   "metadata": {},
   "source": [
    "__Get first and last element task:__"
   ]
  },
  {
   "cell_type": "code",
   "execution_count": 13,
   "metadata": {},
   "outputs": [
    {
     "name": "stdin",
     "output_type": "stream",
     "text": [
      " 1 2 3 4 5 6\n"
     ]
    },
    {
     "name": "stdout",
     "output_type": "stream",
     "text": [
      "1 6 "
     ]
    }
   ],
   "source": [
    "int[] getFirstAndLast(int[] array) {\n",
    "    int[] elems = new int[2];\n",
    "    elems[0] = array[0];\n",
    "    elems[1] = array[array.length-1];\n",
    "    return elems;\n",
    "}\n",
    "\n",
    "/* Do not change code below */\n",
    "public static void main(String args[]) {\n",
    "    Scanner scanner = new Scanner(System.in);\n",
    "    int[] array = Arrays.stream(scanner.nextLine().split(\" \"))\n",
    "            .mapToInt(Integer::parseInt)\n",
    "            .toArray();\n",
    "    int[] result = getFirstAndLast(array);\n",
    "    Arrays.stream(result).forEach(e -> System.out.print(e + \" \"));\n",
    "}\n",
    "\n",
    "main(null);"
   ]
  }
 ],
 "metadata": {
  "kernelspec": {
   "display_name": "Java",
   "language": "java",
   "name": "java"
  },
  "language_info": {
   "codemirror_mode": "java",
   "file_extension": ".java",
   "mimetype": "text/x-java-source",
   "name": "Java",
   "pygments_lexer": "java",
   "version": "11.0.2+9-LTS"
  }
 },
 "nbformat": 4,
 "nbformat_minor": 2
}
