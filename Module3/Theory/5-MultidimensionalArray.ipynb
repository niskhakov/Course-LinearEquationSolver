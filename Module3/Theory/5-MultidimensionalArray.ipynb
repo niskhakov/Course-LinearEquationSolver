{
 "cells": [
  {
   "cell_type": "code",
   "execution_count": 1,
   "metadata": {},
   "outputs": [],
   "source": [
    "// two-dim array - the array of arrays\n",
    "int[][] twoDimArray = {\n",
    "        {1, 2, 3, 1}, // first array of int\n",
    "        {3, 4, 1, 2}, // second array of int\n",
    "        {4, 4, 1, 0}  // third array of int\n",
    "};"
   ]
  },
  {
   "cell_type": "code",
   "execution_count": 2,
   "metadata": {},
   "outputs": [],
   "source": [
    "int number = twoDimArray[0][2]; // it is 3"
   ]
  },
  {
   "cell_type": "code",
   "execution_count": 3,
   "metadata": {},
   "outputs": [
    {
     "data": {
      "text/plain": [
       "3"
      ]
     },
     "execution_count": 3,
     "metadata": {},
     "output_type": "execute_result"
    }
   ],
   "source": [
    "number"
   ]
  },
  {
   "cell_type": "code",
   "execution_count": 4,
   "metadata": {},
   "outputs": [
    {
     "name": "stdout",
     "output_type": "stream",
     "text": [
      "[1, 2, 3, 4]\n",
      "[5, 7, 3]\n",
      "[8]\n"
     ]
    }
   ],
   "source": [
    "int[][] twoDimArray = new int[3][];\n",
    "\n",
    "twoDimArray[0] = new int[] { 1, 2, 3, 4 }; // the length is 4\n",
    "twoDimArray[1] = new int[] { 5, 7, 3};     // the length is 3\n",
    "twoDimArray[2] = new int[] { 8 };          // the length is 1\n",
    "\n",
    "// let's output the array\n",
    "for (int i = 0; i < twoDimArray.length; i++) {\n",
    "    System.out.println(Arrays.toString(twoDimArray[i]));\n",
    "}"
   ]
  },
  {
   "cell_type": "code",
   "execution_count": 6,
   "metadata": {},
   "outputs": [
    {
     "name": "stdout",
     "output_type": "stream",
     "text": [
      "1 1 1 1 1 \n",
      "1 1 1 1 1 \n",
      "1 1 1 1 1 \n",
      "1 1 1 1 1 \n",
      "\n",
      "2 2 2 2 2 \n",
      "2 2 2 2 2 \n",
      "2 2 2 2 2 \n",
      "2 2 2 2 2 \n",
      "\n",
      "3 3 3 3 3 \n",
      "3 3 3 3 3 \n",
      "3 3 3 3 3 \n",
      "3 3 3 3 3 \n",
      "\n"
     ]
    }
   ],
   "source": [
    "int[][][] cubic = new int[3][4][5]; // an three-dimensiona array (cube)    \n",
    "\n",
    "int current = 1; // it stores a value to fill elements\n",
    "\n",
    "for (int i = 0; i < 3; i++) { // iterating through each 2D array (\"table\" or \"matrix\")\n",
    "    for (int j = 0; j < 4; j++) { // iterating through each 1D array (\"vector\") array of a \"matrix\"\n",
    "        for (int k = 0; k < 5; k++) { // iterating through each element of a vector\n",
    "            cubic[i][j][k] = current; // assign a value to an element\n",
    "        }\n",
    "    }\n",
    "    current++; // get the next value to the next \"matrix\"\n",
    "}\n",
    "        \n",
    "for (int i = 0; i < 3; i++) {\n",
    "    for (int j = 0; j < 4; j++) {\n",
    "        for (int k = 0; k < 5; k++) {\n",
    "            System.out.print(cubic[i][j][k] + \" \");\n",
    "        }\n",
    "        System.out.println();\n",
    "    }\n",
    "    System.out.println();\n",
    "}"
   ]
  },
  {
   "cell_type": "code",
   "execution_count": null,
   "metadata": {},
   "outputs": [],
   "source": [
    "// this code fills the 3-dimensional array\n",
    "int current = 1;\n",
    "for (int[][] dim2Array : cubic) {     // for each 2-dim array\n",
    "    for (int[] vector : dim2Array) {  // for each 1-dim array (vector) of 2-dim array\n",
    "        Arrays.fill(vector, current); // fill the vector\n",
    "    }\n",
    "   current++; // the next current\n",
    "}\n",
    "\n",
    "// this code prints all 2-dimensional arrays\n",
    "for (int[][] dim2Array : cubic) {\n",
    "    for (int[] vector : dim2Array) {\n",
    "        System.out.println(Arrays.toString(vector));\n",
    "    }\n",
    "    System.out.println();\n",
    "}"
   ]
  },
  {
   "cell_type": "markdown",
   "metadata": {},
   "source": [
    "__Fill the matrix by numbers task:__"
   ]
  },
  {
   "cell_type": "code",
   "execution_count": 8,
   "metadata": {},
   "outputs": [],
   "source": [
    "import java.util.Scanner;"
   ]
  },
  {
   "cell_type": "code",
   "execution_count": 12,
   "metadata": {},
   "outputs": [
    {
     "name": "stdin",
     "output_type": "stream",
     "text": [
      " 5\n"
     ]
    },
    {
     "name": "stdout",
     "output_type": "stream",
     "text": [
      "[0, 1, 2, 3, 4]\n",
      "[1, 0, 1, 2, 3]\n",
      "[2, 1, 0, 1, 2]\n",
      "[3, 2, 1, 0, 1]\n",
      "[4, 3, 2, 1, 0]\n"
     ]
    }
   ],
   "source": [
    "Scanner scanner = new Scanner(System.in);\n",
    "int n = scanner.nextInt();\n",
    "int[][] matrix = new int[n][n];\n",
    "int offset = 0;\n",
    "int count = 0;\n",
    "for(int  i = 0; i < n; i++, offset++, count=0) {\n",
    "    for(int j = 0; j < n; j++, count++) {\n",
    "        matrix[i][j] = Math.abs(count - offset);\n",
    "    }\n",
    "    System.out.println(Arrays.toString(matrix[i]));\n",
    "}"
   ]
  },
  {
   "cell_type": "markdown",
   "metadata": {},
   "source": [
    "__The star figure task:__"
   ]
  },
  {
   "cell_type": "code",
   "execution_count": 3,
   "metadata": {},
   "outputs": [
    {
     "name": "stdin",
     "output_type": "stream",
     "text": [
      " 41\n"
     ]
    },
    {
     "name": "stdout",
     "output_type": "stream",
     "text": [
      "* . . . . . . . . . . . . . . . . . . . * . . . . . . . . . . . . . . . . . . . * \n",
      ". * . . . . . . . . . . . . . . . . . . * . . . . . . . . . . . . . . . . . . * . \n",
      ". . * . . . . . . . . . . . . . . . . . * . . . . . . . . . . . . . . . . . * . . \n",
      ". . . * . . . . . . . . . . . . . . . . * . . . . . . . . . . . . . . . . * . . . \n",
      ". . . . * . . . . . . . . . . . . . . . * . . . . . . . . . . . . . . . * . . . . \n",
      ". . . . . * . . . . . . . . . . . . . . * . . . . . . . . . . . . . . * . . . . . \n",
      ". . . . . . * . . . . . . . . . . . . . * . . . . . . . . . . . . . * . . . . . . \n",
      ". . . . . . . * . . . . . . . . . . . . * . . . . . . . . . . . . * . . . . . . . \n",
      ". . . . . . . . * . . . . . . . . . . . * . . . . . . . . . . . * . . . . . . . . \n",
      ". . . . . . . . . * . . . . . . . . . . * . . . . . . . . . . * . . . . . . . . . \n",
      ". . . . . . . . . . * . . . . . . . . . * . . . . . . . . . * . . . . . . . . . . \n",
      ". . . . . . . . . . . * . . . . . . . . * . . . . . . . . * . . . . . . . . . . . \n",
      ". . . . . . . . . . . . * . . . . . . . * . . . . . . . * . . . . . . . . . . . . \n",
      ". . . . . . . . . . . . . * . . . . . . * . . . . . . * . . . . . . . . . . . . . \n",
      ". . . . . . . . . . . . . . * . . . . . * . . . . . * . . . . . . . . . . . . . . \n",
      ". . . . . . . . . . . . . . . * . . . . * . . . . * . . . . . . . . . . . . . . . \n",
      ". . . . . . . . . . . . . . . . * . . . * . . . * . . . . . . . . . . . . . . . . \n",
      ". . . . . . . . . . . . . . . . . * . . * . . * . . . . . . . . . . . . . . . . . \n",
      ". . . . . . . . . . . . . . . . . . * . * . * . . . . . . . . . . . . . . . . . . \n",
      ". . . . . . . . . . . . . . . . . . . * * * . . . . . . . . . . . . . . . . . . . \n",
      "* * * * * * * * * * * * * * * * * * * * * * * * * * * * * * * * * * * * * * * * * \n",
      ". . . . . . . . . . . . . . . . . . . * * * . . . . . . . . . . . . . . . . . . . \n",
      ". . . . . . . . . . . . . . . . . . * . * . * . . . . . . . . . . . . . . . . . . \n",
      ". . . . . . . . . . . . . . . . . * . . * . . * . . . . . . . . . . . . . . . . . \n",
      ". . . . . . . . . . . . . . . . * . . . * . . . * . . . . . . . . . . . . . . . . \n",
      ". . . . . . . . . . . . . . . * . . . . * . . . . * . . . . . . . . . . . . . . . \n",
      ". . . . . . . . . . . . . . * . . . . . * . . . . . * . . . . . . . . . . . . . . \n",
      ". . . . . . . . . . . . . * . . . . . . * . . . . . . * . . . . . . . . . . . . . \n",
      ". . . . . . . . . . . . * . . . . . . . * . . . . . . . * . . . . . . . . . . . . \n",
      ". . . . . . . . . . . * . . . . . . . . * . . . . . . . . * . . . . . . . . . . . \n",
      ". . . . . . . . . . * . . . . . . . . . * . . . . . . . . . * . . . . . . . . . . \n",
      ". . . . . . . . . * . . . . . . . . . . * . . . . . . . . . . * . . . . . . . . . \n",
      ". . . . . . . . * . . . . . . . . . . . * . . . . . . . . . . . * . . . . . . . . \n",
      ". . . . . . . * . . . . . . . . . . . . * . . . . . . . . . . . . * . . . . . . . \n",
      ". . . . . . * . . . . . . . . . . . . . * . . . . . . . . . . . . . * . . . . . . \n",
      ". . . . . * . . . . . . . . . . . . . . * . . . . . . . . . . . . . . * . . . . . \n",
      ". . . . * . . . . . . . . . . . . . . . * . . . . . . . . . . . . . . . * . . . . \n",
      ". . . * . . . . . . . . . . . . . . . . * . . . . . . . . . . . . . . . . * . . . \n",
      ". . * . . . . . . . . . . . . . . . . . * . . . . . . . . . . . . . . . . . * . . \n",
      ". * . . . . . . . . . . . . . . . . . . * . . . . . . . . . . . . . . . . . . * . \n",
      "* . . . . . . . . . . . . . . . . . . . * . . . . . . . . . . . . . . . . . . . * \n"
     ]
    }
   ],
   "source": [
    "Scanner scanner = new Scanner(System.in);\n",
    "int n = scanner.nextInt();\n",
    "String[][] star = new String[n][n];\n",
    "for(int i = 0; i < n; i++) {\n",
    "    for(int j = 0; j < n; j++) {\n",
    "        star[i][j] = i==j || (i+j+1)==n || i==(n/2) || j==(n/2) ? \"*\" : \".\";\n",
    "        System.out.print(star[i][j] + \" \");\n",
    "    }\n",
    "    System.out.println();\n",
    "}\n"
   ]
  },
  {
   "cell_type": "markdown",
   "metadata": {},
   "source": [
    "__Cinema task:__"
   ]
  },
  {
   "cell_type": "code",
   "execution_count": 26,
   "metadata": {},
   "outputs": [
    {
     "name": "stdin",
     "output_type": "stream",
     "text": [
      " 3 4\n",
      " 0 1 1 1\n",
      " 1 1 1 1\n",
      " 1 1 1 1\n",
      " 1\n"
     ]
    },
    {
     "name": "stdout",
     "output_type": "stream",
     "text": [
      "1\n"
     ]
    }
   ],
   "source": [
    "Scanner scanner = new Scanner(System.in);\n",
    "int n = scanner.nextInt();\n",
    "int m = scanner.nextInt();\n",
    "int[][] matrix = new int[n][m];\n",
    "for(int i = 0; i < n; i++) {\n",
    "    for(int j = 0; j < m ; j++) {\n",
    "        matrix[i][j] = scanner.nextInt();\n",
    "    }\n",
    "}\n",
    "int seats = scanner.nextInt();\n",
    "int smallestCount = 0;\n",
    "int count = 0;\n",
    "boolean isConseq = false;\n",
    "for(int i = 0; i < n; i++) {\n",
    "    for(int j = 0; j < m; j++) {\n",
    "        if(matrix[i][j] == 0) {\n",
    "            if(!isConseq) {\n",
    "                smallestCount = (count >= seats && smallestCount > count) || (count >= seats && smallestCount==0) ? count : smallestCount;\n",
    "                count = 1;\n",
    "                isConseq = true;\n",
    "            } else {\n",
    "                count++;\n",
    "            }\n",
    "        } else {\n",
    "            isConseq = false;\n",
    "        }\n",
    "    }\n",
    "//     System.out.println(count);\n",
    "    smallestCount = (count >= seats && smallestCount > count) || (count >= seats && smallestCount==0) ? count : smallestCount;\n",
    "    count = 0;\n",
    "    isConseq = false;\n",
    "}\n",
    "\n",
    "\n",
    "System.out.println(smallestCount);\n"
   ]
  },
  {
   "cell_type": "markdown",
   "metadata": {},
   "source": [
    "__Sum of neighbours task:__"
   ]
  },
  {
   "cell_type": "code",
   "execution_count": 31,
   "metadata": {},
   "outputs": [
    {
     "name": "stdin",
     "output_type": "stream",
     "text": [
      " 1 1 1\n",
      " 1 1 1\n",
      " 1 1 1\n",
      " end\n"
     ]
    },
    {
     "ename": "CompilationException",
     "evalue": "",
     "output_type": "error",
     "traceback": [
      "\u001b[1m\u001b[30m|   \u001b[1m\u001b[30m    linesElements = \u001b[0m\u001b[1m\u001b[30m\u001b[41mlines.indexOf(i).toArray\u001b[0m\u001b[1m\u001b[30m(new String[n]).split(\" \");\u001b[0m",
      "\u001b[1m\u001b[31mint cannot be dereferenced\u001b[0m",
      "",
      "\u001b[1m\u001b[30m|   \u001b[1m\u001b[30m        matrix[i][j] = Integer.parseInt(\u001b[0m\u001b[1m\u001b[30m\u001b[41mlinesElement\u001b[0m\u001b[1m\u001b[30m[j]);\u001b[0m",
      "\u001b[1m\u001b[31mcannot find symbol\u001b[0m",
      "\u001b[1m\u001b[31m  symbol:   variable linesElement\u001b[0m",
      ""
     ]
    }
   ],
   "source": [
    "Scanner scanner = new Scanner(System.in);\n",
    "ArrayList<String> lines = new ArrayList<>();\n",
    "String input;\n",
    "while(!(input = scanner.nextLine()).equals(\"end\")) {\n",
    "    lines.add(input);\n",
    "}\n",
    "int n = lines.size();\n",
    "int[][] matrix = new int[n][n];\n",
    "String[] linesElements;\n",
    "for(int i = 0; i < n; i++) {\n",
    "    linesElements = lines.indexOf(i).toArray(new String[n]).split(\" \");\n",
    "    for(int j = 0; j < n; j++) {\n",
    "        matrix[i][j] = Integer.parseInt(linesElement[j]);\n",
    "    }\n",
    "}\n",
    "\n",
    "for(int[] line : matrix[i]) {\n",
    "    for(int x: line) {\n",
    "        System.out.print(x + \" \");\n",
    "    }\n",
    "    System.out.println();\n",
    "}"
   ]
  }
 ],
 "metadata": {
  "kernelspec": {
   "display_name": "Java",
   "language": "java",
   "name": "java"
  },
  "language_info": {
   "codemirror_mode": "java",
   "file_extension": ".java",
   "mimetype": "text/x-java-source",
   "name": "Java",
   "pygments_lexer": "java",
   "version": "11.0.1+13-LTS"
  }
 },
 "nbformat": 4,
 "nbformat_minor": 2
}
