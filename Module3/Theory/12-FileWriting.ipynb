{
 "cells": [
  {
   "cell_type": "markdown",
   "metadata": {},
   "source": [
    "# Writing Files"
   ]
  },
  {
   "cell_type": "markdown",
   "metadata": {},
   "source": [
    "## The FileWriter Class"
   ]
  },
  {
   "cell_type": "markdown",
   "metadata": {},
   "source": [
    "Set of constructors:\n",
    "* FileWriter(String fileName);\n",
    "* FileWriter(String fileName, boolean append);\n",
    "* FileWriter(File file);\n",
    "* FileWriter(File file, boolean append);"
   ]
  },
  {
   "cell_type": "markdown",
   "metadata": {},
   "source": [
    "All these constructors can throw an __IOException__ for many reasons:\n",
    "\n",
    "* if the named file exists but it is a directory rather than a regular file;\n",
    "* if a file does not exist but cannot be created;\n",
    "* if a file exists but cannot be opened."
   ]
  },
  {
   "cell_type": "code",
   "execution_count": 3,
   "metadata": {},
   "outputs": [],
   "source": [
    "File file = new File(\"C:\\\\Users\\\\User\\\\Documents\\\\Hyperskill\\\\LinearEquationSolver-Java\\\\Module3\\\\Theory\\\\WritingExample.txt\");\n",
    "FileWriter writer = new FileWriter(file); // overwrites the file\n",
    "\n",
    "writer.write(\"string1\");\n",
    "writer.write(\"string2\");\n",
    "\n",
    "writer.close();\n",
    "\n",
    "FileWriter writer = new FileWriter(file, true); // appends text to the file\n",
    "\n",
    "writer.write(\"Hello, World\\n\");\n",
    "writer.close();"
   ]
  },
  {
   "cell_type": "markdown",
   "metadata": {},
   "source": [
    "### Automatic closing with try-with-resources"
   ]
  },
  {
   "cell_type": "code",
   "execution_count": 5,
   "metadata": {},
   "outputs": [],
   "source": [
    "try (FileWriter writer = new FileWriter(file)) {\n",
    "    writer.write(\"Hello, World\");\n",
    "} catch (IOException e) {\n",
    "    System.out.printf(\"An exception occurs %s\", e.getMessage());\n",
    "}"
   ]
  },
  {
   "cell_type": "markdown",
   "metadata": {},
   "source": [
    "## The PrintWriter Class"
   ]
  },
  {
   "cell_type": "code",
   "execution_count": 6,
   "metadata": {},
   "outputs": [],
   "source": [
    "File file = new File(\"C:\\\\Users\\\\User\\\\Documents\\\\Hyperskill\\\\LinearEquationSolver-Java\\\\Module3\\\\Theory\\\\WritingExample.txt\");\n",
    "try (PrintWriter printWriter = new PrintWriter(file)) {\n",
    "    printWriter.print(\"string1\"); // prints a string\n",
    "    printWriter.println(\"string2\"); // prints a string and then terminates the line\n",
    "    printWriter.println(123); // prints a number\n",
    "    printWriter.printf(\"You have %d %s\", 400, \"golds\"); // prints a formatted string\n",
    "} catch (IOException e) {\n",
    "    System.out.printf(\"An exception occurs %s\", e.getMessage());\n",
    "}"
   ]
  },
  {
   "cell_type": "code",
   "execution_count": 8,
   "metadata": {},
   "outputs": [
    {
     "data": {
      "text/plain": [
       "0"
      ]
     },
     "execution_count": 8,
     "metadata": {},
     "output_type": "execute_result"
    }
   ],
   "source": [
    "1/2"
   ]
  }
 ],
 "metadata": {
  "kernelspec": {
   "display_name": "Java",
   "language": "java",
   "name": "java"
  },
  "language_info": {
   "codemirror_mode": "java",
   "file_extension": ".java",
   "mimetype": "text/x-java-source",
   "name": "Java",
   "pygments_lexer": "java",
   "version": "11.0.2+9-LTS"
  }
 },
 "nbformat": 4,
 "nbformat_minor": 2
}
