{
 "cells": [
  {
   "cell_type": "markdown",
   "metadata": {},
   "source": [
    "java.lang.Throwable:\n",
    "1. getMessage();\n",
    "2. getCause();\n",
    "3. getStackTrace();"
   ]
  },
  {
   "cell_type": "markdown",
   "metadata": {},
   "source": [
    "Exceptions:\n",
    "1. Checked (Exception and its subclasses except RuntimeException and its subclasses)\n",
    "2. Unchecked (Exception.RuntimeException and its subclasses)"
   ]
  },
  {
   "cell_type": "code",
   "execution_count": 1,
   "metadata": {},
   "outputs": [],
   "source": [
    "public class MyAppException extends Exception {\n",
    "\n",
    "    public MyAppException(String msg) {\n",
    "        super(msg);\n",
    "    }\n",
    "\n",
    "    public MyAppException(Exception cause) {\n",
    "        super(cause);\n",
    "    }\n",
    "}"
   ]
  },
  {
   "cell_type": "markdown",
   "metadata": {},
   "source": [
    "## Exception handling\n"
   ]
  },
  {
   "cell_type": "code",
   "execution_count": 2,
   "metadata": {},
   "outputs": [
    {
     "name": "stdout",
     "output_type": "stream",
     "text": [
      "before the try-catch block\n",
      "inside the try block before an exception occurs\n",
      "inside the catch block\n",
      "after the try-catch block\n"
     ]
    }
   ],
   "source": [
    "System.out.println(\"before the try-catch block\"); // it will be printed\n",
    "\n",
    "try {\n",
    "    System.out.println(\"inside the try block before an exception occurs\"); // it will be printed\n",
    "\n",
    "    int[] numbers = { 1, 2, 3 };\n",
    "    numbers[3] = 4; // ArrayIndexOutOfBoundsException occurs here\n",
    "\n",
    "    System.out.println(\"inside the try block after the exception occurs\"); // it won't be printed\n",
    "} catch (Exception e) {\n",
    "    System.out.println(\"inside the catch block\"); // it will be printed\n",
    "}\n",
    "\n",
    "System.out.println(\"after the try-catch block\"); // it will be printed"
   ]
  },
  {
   "cell_type": "markdown",
   "metadata": {},
   "source": [
    "### Finally statement"
   ]
  },
  {
   "cell_type": "code",
   "execution_count": 3,
   "metadata": {},
   "outputs": [
    {
     "name": "stdout",
     "output_type": "stream",
     "text": [
      "inside the try block before an exception occurs\n",
      "inside the finally block\n",
      "after the try-catch-finally block\n"
     ]
    }
   ],
   "source": [
    "try {\n",
    "    System.out.println(\"inside the try block before an exception occurs\"); // it will be printed\n",
    "} catch (Exception e) {\n",
    "    System.out.println(\"inside the catch block\"); // it won't be printed\n",
    "} finally {\n",
    "    System.out.println(\"inside the finally block\"); // it will be printed\n",
    "}\n",
    "\n",
    "System.out.println(\"after the try-catch-finally block\"); // it will be printed"
   ]
  },
  {
   "cell_type": "code",
   "execution_count": 4,
   "metadata": {},
   "outputs": [
    {
     "name": "stdout",
     "output_type": "stream",
     "text": [
      "inside the catch block\n",
      "inside the finally block\n",
      "after the try-catch-finally block\n"
     ]
    }
   ],
   "source": [
    "try {\n",
    "    throw new RuntimeException(\"An exception occurs\"); // it throws a RuntimeExcepton\n",
    "} catch (Exception e) {\n",
    "    System.out.println(\"inside the catch block\"); // it will be printed\n",
    "} finally {\n",
    "    System.out.println(\"inside the finally block\"); // it will be printed\n",
    "}\n",
    "\n",
    "System.out.println(\"after the try-catch-finally block\"); // it will be printed"
   ]
  },
  {
   "cell_type": "markdown",
   "metadata": {},
   "source": [
    "The finally block is also executed if an exception happens. Moreover, it's executed even an exception happens inside a catch block.\n"
   ]
  },
  {
   "cell_type": "markdown",
   "metadata": {},
   "source": [
    "The general idea: a catch block with a base class has to be written after all blocks with subclasses. Otherwise, it won't be compiled.\n"
   ]
  },
  {
   "cell_type": "markdown",
   "metadata": {},
   "source": [
    "### Catching multiple exceptions"
   ]
  },
  {
   "cell_type": "code",
   "execution_count": 5,
   "metadata": {},
   "outputs": [],
   "source": [
    "try {\n",
    "    // a code that throws exceptions\n",
    "} catch (IndexOutOfBoundsException e) {\n",
    "    // handling the IndexOutOfBoundException and its subclasses    \n",
    "} catch (Exception e) {\n",
    "    // handling the Exception and its subclasses\n",
    "}"
   ]
  },
  {
   "cell_type": "markdown",
   "metadata": {},
   "source": [
    "#### Multi-catch syntax (Since Java 7)"
   ]
  },
  {
   "cell_type": "code",
   "execution_count": 6,
   "metadata": {},
   "outputs": [
    {
     "ename": "CompilationException",
     "evalue": "",
     "output_type": "error",
     "traceback": [
      "\u001b[1m\u001b[30m|   \u001b[1m\u001b[30m} catch(\u001b[0m\u001b[1m\u001b[30m\u001b[41mSQLException\u001b[0m\u001b[1m\u001b[30m | IOException e) {\u001b[0m",
      "\u001b[1m\u001b[31mcannot find symbol\u001b[0m",
      "\u001b[1m\u001b[31m  symbol:   class SQLException\u001b[0m",
      "",
      "\u001b[1m\u001b[30m|   \u001b[1m\u001b[30m} \u001b[0m\u001b[1m\u001b[30m\u001b[41mcatch(SQLException | IOException e) {\u001b[0m",
      "\u001b[1m\u001b[30m|   \u001b[1m\u001b[30m\u001b[41m    // handling SQLException and IOException and their subclasses\u001b[0m",
      "\u001b[1m\u001b[30m|   \u001b[1m\u001b[30m\u001b[41m}\u001b[0m\u001b[1m\u001b[30m catch(Exception e) {\u001b[0m",
      "\u001b[1m\u001b[31mexception java.io.IOException is never thrown in body of corresponding try statement\u001b[0m",
      ""
     ]
    }
   ],
   "source": [
    "try {\n",
    "    // a code that may throw exceptions\n",
    "} catch(SQLException | IOException e) {\n",
    "    // handling SQLException and IOException and their subclasses\n",
    "} catch(Exception e) {\n",
    "    // handling any exceptions\n",
    "}"
   ]
  },
  {
   "cell_type": "markdown",
   "metadata": {},
   "source": [
    "### Try-with-resources"
   ]
  },
  {
   "cell_type": "markdown",
   "metadata": {},
   "source": [
    "__Before:__"
   ]
  },
  {
   "cell_type": "code",
   "execution_count": 8,
   "metadata": {},
   "outputs": [],
   "source": [
    "InputStream is = null;\n",
    "try {\n",
    "    is = new FileInputStream(\"test.txt\"); // creating an instance for reading from the file\n",
    "\n",
    "    // do something with the stream\n",
    "} catch (IOException e) {\n",
    "    // process an exception\n",
    "} finally {\n",
    "    try {\n",
    "        if (is != null) {\n",
    "            is.close(); // closing the stream\n",
    "        }\n",
    "    } catch (IOException e) {\n",
    "        // ignoring\n",
    "    }\n",
    "}"
   ]
  },
  {
   "cell_type": "markdown",
   "metadata": {},
   "source": [
    "__After:__"
   ]
  },
  {
   "cell_type": "code",
   "execution_count": 9,
   "metadata": {},
   "outputs": [],
   "source": [
    "try (InputStream is = new FileInputStream(\"test.txt\")) {\n",
    "    // do something with the stream\n",
    "} catch (IOException e) {\n",
    "    // process an exception\n",
    "}"
   ]
  },
  {
   "cell_type": "markdown",
   "metadata": {},
   "source": [
    "### Checked and Unchecked exceptions:\n"
   ]
  },
  {
   "cell_type": "markdown",
   "metadata": {},
   "source": [
    "The try-catch statement can handle both groups of exceptions: __checked__ and __unchecked__.\n",
    "But there is only one difference - __checked exceptions must be caught (using try-catch) or declared to be thrown (using the throws keyword) when unchecked exceptions may not be.__\n"
   ]
  },
  {
   "cell_type": "markdown",
   "metadata": {},
   "source": [
    "## Complex Exception"
   ]
  },
  {
   "cell_type": "markdown",
   "metadata": {},
   "source": [
    "### Unchecked exception:"
   ]
  },
  {
   "cell_type": "code",
   "execution_count": 11,
   "metadata": {},
   "outputs": [],
   "source": [
    "public static int[] parseNumbersFromString(String s) {\n",
    "    String[] parts = s.split(\"\\\\s+\"); // splitting the string by whitespaces\n",
    "\n",
    "    int[] numbers = new int[parts.length]; // the array for storing converted numbers\n",
    "    for (int i = 0; i < numbers.length; i++) {\n",
    "        numbers[i] = Integer.parseInt(parts[i]);\n",
    "    }\n",
    "\n",
    "    return numbers;\n",
    "}"
   ]
  },
  {
   "cell_type": "code",
   "execution_count": 13,
   "metadata": {},
   "outputs": [
    {
     "name": "stdin",
     "output_type": "stream",
     "text": [
      "  1 2 3 bbb 45 6\n"
     ]
    },
    {
     "ename": "EvalException",
     "evalue": "For input string: \"\"",
     "output_type": "error",
     "traceback": [
      "\u001b[1m\u001b[31m---------------------------------------------------------------------------\u001b[0m",
      "\u001b[1m\u001b[31mjava.lang.NumberFormatException: For input string: \"\"\u001b[0m",
      "\u001b[1m\u001b[31m\tat java.base/java.lang.NumberFormatException.forInputString(NumberFormatException.java:65)\u001b[0m",
      "\u001b[1m\u001b[31m\tat java.base/java.lang.Integer.parseInt(Integer.java:662)\u001b[0m",
      "\u001b[1m\u001b[31m\tat java.base/java.lang.Integer.parseInt(Integer.java:770)\u001b[0m",
      "\u001b[1m\u001b[31m\tat .parseNumbersFromString(#33:6)\u001b[0m",
      "\u001b[1m\u001b[31m\tat .(#36:1)\u001b[0m"
     ]
    }
   ],
   "source": [
    "Scanner scanner = new Scanner(System.in); // an object to read from the standard input\n",
    "\n",
    "String line = scanner.nextLine(); // a line with numbers\n",
    "\n",
    "int[] numbers = parseNumbersFromString(line); // converted array with numbers\n",
    "\n",
    "System.out.println(Arrays.toString(numbers)); // printing the array like \"[1 2 3]\""
   ]
  },
  {
   "cell_type": "markdown",
   "metadata": {},
   "source": [
    "### Checked exception:"
   ]
  },
  {
   "cell_type": "code",
   "execution_count": 14,
   "metadata": {},
   "outputs": [],
   "source": [
    "public class ParsingArrayException extends Exception {\n",
    "\n",
    "    public ParsingArrayException(String msg, Exception cause) {\n",
    "        super(msg, cause);\n",
    "    }\n",
    "}"
   ]
  },
  {
   "cell_type": "code",
   "execution_count": 15,
   "metadata": {},
   "outputs": [],
   "source": [
    "public static int[] extractIntNumbersFromString(String s) throws ParsingArrayException {\n",
    "    try {\n",
    "        String[] parts = s.split(\"\\\\s+\");\n",
    "        int[] numbers = new int[parts.length];\n",
    "        for (int i = 0; i < numbers.length; i++) {\n",
    "            numbers[i] = Integer.parseInt(parts[i]);\n",
    "        }\n",
    "\n",
    "        return numbers;\n",
    "    } catch (Exception cause) {\n",
    "        throw new ParsingArrayException(\n",
    "                String.format(\"The string '%s' cannot be parsed as an array of numbers\", s),\n",
    "                cause // it's a good practice not to lose the original exception\n",
    "         );\n",
    "    }\n",
    "}"
   ]
  },
  {
   "cell_type": "code",
   "execution_count": 17,
   "metadata": {},
   "outputs": [
    {
     "name": "stdin",
     "output_type": "stream",
     "text": [
      " 1 5 9 6 32 ass 11 \n"
     ]
    },
    {
     "name": "stdout",
     "output_type": "stream",
     "text": [
      "The string '1 5 9 6 32 ass 11 ' cannot be parsed as an array of numbers\n"
     ]
    }
   ],
   "source": [
    "Scanner scanner = new Scanner(System.in);\n",
    "try {\n",
    "    String line = scanner.nextLine();\n",
    "\n",
    "    int[] numbers = extractIntNumbersFromString(line);\n",
    "\n",
    "    System.out.println(Arrays.toString(numbers));\n",
    "} catch (ParsingArrayException e) {\n",
    "    System.out.println(e.getMessage());\n",
    "}    "
   ]
  },
  {
   "cell_type": "markdown",
   "metadata": {},
   "source": [
    "### Some Advices"
   ]
  },
  {
   "cell_type": "markdown",
   "metadata": {},
   "source": [
    "Some advice about exception handling:\n",
    "* it's often convenient to create a hierarchy of exceptions for your application;  \n",
    "* it's a good practice do not lose the original exception if you throw a new exception from a catch block;\n",
    "* an exception should be handled in a method that has sufficient information to make the correct decision, otherwise, the exception must be thrown to the calling method;\n",
    "* if you process an external resource, then use the try-with-resources statement (since Java 7);\n",
    "* if you handle several exceptions using the same code, try to use multi-catch syntax with alternatives (since Java 7)."
   ]
  },
  {
   "cell_type": "markdown",
   "metadata": {},
   "source": [
    "__String to double conversion task:__"
   ]
  },
  {
   "cell_type": "code",
   "execution_count": 32,
   "metadata": {},
   "outputs": [
    {
     "name": "stdin",
     "output_type": "stream",
     "text": [
      " sd\n"
     ]
    },
    {
     "name": "stdout",
     "output_type": "stream",
     "text": [
      "NumberFormatException\n",
      "0.0\n"
     ]
    }
   ],
   "source": [
    "import java.util.Scanner;\n",
    "\n",
    "public class Main {\n",
    "\n",
    "    /**\n",
    "     * It returns a double value or 0.0 if an exception occurred\n",
    "     */\n",
    "    public static double convertStringToDouble(String s) {\n",
    "        double d;\n",
    "        try {\n",
    "            d = Double.parseDouble(s);\n",
    "        } catch(Exception e) {\n",
    "            System.out.println(e.getClass().getSimpleName());\n",
    "            d = 0;\n",
    "        }\n",
    "        return d;\n",
    "    }\n",
    "\n",
    "    /* Do not change code below */\n",
    "    public static void main(String[] args) {\n",
    "        Scanner scanner = new Scanner(System.in);\n",
    "        String line = scanner.nextLine();\n",
    "        line = line.equalsIgnoreCase(\"none\") ? null : line;\n",
    "        double result = convertStringToDouble(line);\n",
    "        System.out.println(result);\n",
    "    }\n",
    "}\n",
    "\n",
    "Main.main(null);"
   ]
  },
  {
   "cell_type": "markdown",
   "metadata": {},
   "source": [
    "__Catching exceptions of specified type:__"
   ]
  },
  {
   "cell_type": "code",
   "execution_count": 33,
   "metadata": {},
   "outputs": [],
   "source": [
    "import java.util.*;\n",
    "\n",
    "public class Main {\n",
    "\n",
    "    public static void methodCatchingSomeExceptions() {\n",
    "        try {\n",
    "            methodThrowingExceptions();\n",
    "        } catch(NumberFormatException e) {\n",
    "            System.out.println(\"NumberFormatException\");\n",
    "        } catch(IndexOutOfBoundsException e) {\n",
    "            System.out.println(\"IndexOutOfBoundsException\");\n",
    "        }\n",
    "    }\n",
    "\n",
    "    /* Do not change code below */\n",
    "    public static void methodThrowingExceptions() {\n",
    "        if (array == null) {\n",
    "            return;\n",
    "        }\n",
    "        int[] integers = Arrays.stream(array.split(\" \"))\n",
    "                .mapToInt(Integer::parseInt)\n",
    "                .toArray();\n",
    "        Object someValue = integers[integers[0]];\n",
    "        if (integers[0] + integers[1] == integers[2]){\n",
    "            integers = null;\n",
    "        }\n",
    "        int sum = 0;\n",
    "        for (int i : integers){\n",
    "            sum += i;\n",
    "        }\n",
    "        int meanValue = integers.length / sum;\n",
    "        if (integers[2] == integers[3]){\n",
    "            String string = (String) someValue;\n",
    "            System.out.print(\"Random value is \" + string);\n",
    "        }\n",
    "        System.out.print(\"Mean is \" + meanValue);\n",
    "    }\n",
    "\n",
    "    private static String array = null;\n",
    "\n",
    "    public static void main(String[] args) {\n",
    "        Scanner scanner = new Scanner(System.in);\n",
    "        array = scanner.nextLine();\n",
    "        try {\n",
    "            methodCatchingSomeExceptions();\n",
    "        } catch (Exception e) {\n",
    "            System.out.println(\"Caught: \" + e.getClass().getName());\n",
    "        }\n",
    "    }\n",
    "}\n"
   ]
  }
 ],
 "metadata": {
  "kernelspec": {
   "display_name": "Java",
   "language": "java",
   "name": "java"
  },
  "language_info": {
   "codemirror_mode": "java",
   "file_extension": ".java",
   "mimetype": "text/x-java-source",
   "name": "Java",
   "pygments_lexer": "java",
   "version": "11.0.2+9-LTS"
  }
 },
 "nbformat": 4,
 "nbformat_minor": 2
}
