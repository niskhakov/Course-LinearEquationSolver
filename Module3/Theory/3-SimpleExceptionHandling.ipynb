{
 "cells": [
  {
   "cell_type": "markdown",
   "metadata": {},
   "source": [
    "# Stupid Simple Exception Handling"
   ]
  },
  {
   "cell_type": "markdown",
   "metadata": {},
   "source": [
    "## ArithmeticException"
   ]
  },
  {
   "cell_type": "code",
   "execution_count": 1,
   "metadata": {},
   "outputs": [
    {
     "name": "stdin",
     "output_type": "stream",
     "text": [
      " 12 0\n"
     ]
    },
    {
     "name": "stdout",
     "output_type": "stream",
     "text": [
      "Division by zero!\n"
     ]
    }
   ],
   "source": [
    "Scanner scanner = new Scanner(System.in);\n",
    "\n",
    "int a = scanner.nextInt();\n",
    "int b = scanner.nextInt();\n",
    "\n",
    "if (b == 0) {\n",
    "    System.out.println(\"Division by zero!\");\n",
    "} else {\n",
    "    System.out.println(a / b);\n",
    "}"
   ]
  },
  {
   "cell_type": "markdown",
   "metadata": {},
   "source": [
    "## NumberFormatException"
   ]
  },
  {
   "cell_type": "code",
   "execution_count": 3,
   "metadata": {},
   "outputs": [
    {
     "name": "stdin",
     "output_type": "stream",
     "text": [
      " wada \n"
     ]
    },
    {
     "name": "stdout",
     "output_type": "stream",
     "text": [
      "Incorrect number: wada \n"
     ]
    }
   ],
   "source": [
    "Scanner scanner = new Scanner(System.in);\n",
    "String input = scanner.nextLine();\n",
    "\n",
    "if (input.matches(\"\\\\d+\")) { // it checks the input line contains only digits\n",
    "    int number = Integer.parseInt(input);\n",
    "    System.out.println(number + 1);\n",
    "} else {\n",
    "    System.out.println(\"Incorrect number: \" + input);\n",
    "}"
   ]
  },
  {
   "cell_type": "markdown",
   "metadata": {},
   "source": [
    "## Array/StringIndexOutOfBoundException"
   ]
  },
  {
   "cell_type": "code",
   "execution_count": 5,
   "metadata": {},
   "outputs": [
    {
     "name": "stdin",
     "output_type": "stream",
     "text": [
      " 5\n"
     ]
    },
    {
     "name": "stdout",
     "output_type": "stream",
     "text": [
      "The index is out of bounds.\n"
     ]
    }
   ],
   "source": [
    "int[] hardCodedArray = { 3, 2, 4, 5, 1 };\n",
    "\n",
    "Scanner scanner = new Scanner(System.in);\n",
    "\n",
    "int index = scanner.nextInt();\n",
    "\n",
    "if (index < 0 || index > hardCodedArray.length - 1) {\n",
    "    System.out.println(\"The index is out of bounds.\");\n",
    "} else {\n",
    "    System.out.println(hardCodedArray[index]);\n",
    "}"
   ]
  },
  {
   "cell_type": "code",
   "execution_count": 8,
   "metadata": {},
   "outputs": [
    {
     "name": "stdout",
     "output_type": "stream",
     "text": [
      "6\n"
     ]
    }
   ],
   "source": [
    "String string= \"Hello!\";\n",
    "System.out.println(string.length());"
   ]
  }
 ],
 "metadata": {
  "kernelspec": {
   "display_name": "Java",
   "language": "java",
   "name": "java"
  },
  "language_info": {
   "codemirror_mode": "java",
   "file_extension": ".java",
   "mimetype": "text/x-java-source",
   "name": "Java",
   "pygments_lexer": "java",
   "version": "11.0.1+13-LTS"
  }
 },
 "nbformat": 4,
 "nbformat_minor": 2
}
