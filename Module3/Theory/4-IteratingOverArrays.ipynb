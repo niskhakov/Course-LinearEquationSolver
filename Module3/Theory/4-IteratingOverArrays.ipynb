{
 "cells": [
  {
   "cell_type": "markdown",
   "metadata": {},
   "source": [
    "__Example 1.__ Filling an array with the squares of indexes of its elements."
   ]
  },
  {
   "cell_type": "code",
   "execution_count": 1,
   "metadata": {},
   "outputs": [
    {
     "name": "stdout",
     "output_type": "stream",
     "text": [
      "[0, 0, 0, 0, 0, 0, 0, 0, 0, 0]\n",
      "[0, 1, 4, 9, 16, 25, 36, 49, 64, 81]\n"
     ]
    }
   ],
   "source": [
    "int n = 10; // the size of an array\n",
    "int[] squares = new int[n]; // creating an array with the specified size\n",
    "\n",
    "System.out.println(Arrays.toString(squares)); // [0, 0, 0, 0, 0, 0, 0, 0, 0, 0]\n",
    "\n",
    "/* iterating over the array */\n",
    "for (int i = 0; i < squares.length; i++) {\n",
    "    squares[i] = i * i; // set the value by the element index \n",
    "}\n",
    "\n",
    "System.out.println(Arrays.toString(squares)); // [0, 1, 4, 9, 16, 25, 36, 49, 64, 81]"
   ]
  },
  {
   "cell_type": "markdown",
   "metadata": {},
   "source": [
    "__Example 2.__ Checking the order of elements."
   ]
  },
  {
   "cell_type": "code",
   "execution_count": 2,
   "metadata": {},
   "outputs": [
    {
     "name": "stdout",
     "output_type": "stream",
     "text": [
      "BROKEN\n"
     ]
    }
   ],
   "source": [
    "int[] numbers = { 1, 2, 3, 4, 5, 10, 6 }; // the order is broken\n",
    "\n",
    "boolean broken = false; // suppose the array is well-ordered\n",
    "\n",
    "/* iterating over the array */\n",
    "for (int i = 1; i < numbers.length; i++) {\n",
    "    \n",
    "    if (numbers[i] < numbers[i - 1]) { // if the order is broken\n",
    "        broken = true; // write a result\n",
    "        break;         // terminate the loop\n",
    "    }\n",
    "}\n",
    "\n",
    "System.out.println(broken ? \"BROKEN\" : \"OK\");"
   ]
  },
  {
   "cell_type": "markdown",
   "metadata": {},
   "source": [
    "__Example 3.__ Read array from input"
   ]
  },
  {
   "cell_type": "code",
   "execution_count": 3,
   "metadata": {},
   "outputs": [
    {
     "name": "stdin",
     "output_type": "stream",
     "text": [
      " 5 101 102 504 302 881\n"
     ]
    },
    {
     "name": "stdout",
     "output_type": "stream",
     "text": [
      "[101, 102, 504, 302, 881]\n"
     ]
    }
   ],
   "source": [
    "Scanner scanner = new Scanner(System.in);\n",
    "\n",
    "int len = scanner.nextInt(); // reading a length\n",
    "int[] array = new int[len];  // creating an array with the specified length\n",
    "\n",
    "for (int i = 0; i < len; i++) {\n",
    "    array[i] = scanner.nextInt(); // read the next number of the array\n",
    "}\n",
    "System.out.println(Arrays.toString(array)); // output the array"
   ]
  },
  {
   "cell_type": "markdown",
   "metadata": {},
   "source": [
    "## For-each loop"
   ]
  },
  {
   "cell_type": "markdown",
   "metadata": {},
   "source": [
    "__Example 4.__ Calculate number of 'a' chars in array"
   ]
  },
  {
   "cell_type": "code",
   "execution_count": 4,
   "metadata": {},
   "outputs": [
    {
     "name": "stdout",
     "output_type": "stream",
     "text": [
      "3\n"
     ]
    }
   ],
   "source": [
    "char[] characters = { 'a', 'b', 'c', 'a', 'b', 'c', 'a' };\n",
    "\n",
    "int counter = 0;\n",
    "for (char ch : characters) {\n",
    "    if (ch == 'a') {\n",
    "        counter++;\n",
    "    }\n",
    "}\n",
    "\n",
    "System.out.println(counter); // it outputs \"3\""
   ]
  },
  {
   "cell_type": "markdown",
   "metadata": {},
   "source": [
    "__The sum of array elements task:__"
   ]
  },
  {
   "cell_type": "code",
   "execution_count": 6,
   "metadata": {},
   "outputs": [
    {
     "name": "stdin",
     "output_type": "stream",
     "text": [
      " 3\n",
      " 1 2 3\n"
     ]
    },
    {
     "name": "stdout",
     "output_type": "stream",
     "text": [
      "6\n"
     ]
    }
   ],
   "source": [
    "Scanner scanner = new Scanner(System.in);\n",
    "int n = scanner.nextInt();\n",
    "int sum = 0;\n",
    "for(int i = 0; i < n; i++) {\n",
    "    sum += scanner.nextInt();\n",
    "}\n",
    "System.out.println(sum);"
   ]
  },
  {
   "cell_type": "markdown",
   "metadata": {},
   "source": [
    "__Cyclically shifting elements task:__"
   ]
  },
  {
   "cell_type": "code",
   "execution_count": 8,
   "metadata": {},
   "outputs": [
    {
     "name": "stdin",
     "output_type": "stream",
     "text": [
      " 5\n",
      " 1 2 3 4 5\n"
     ]
    },
    {
     "name": "stdout",
     "output_type": "stream",
     "text": [
      "5 1 2 3 4 "
     ]
    }
   ],
   "source": [
    "Scanner scanner = new Scanner(System.in);\n",
    "int n = scanner.nextInt();\n",
    "int[] array = new int[n];\n",
    "for(int i = 0; i < n; i++) {\n",
    "    if(i == n-1) {\n",
    "        array[0]= scanner.nextInt();\n",
    "    } else {\n",
    "        array[i+1] = scanner.nextInt();\n",
    "    }\n",
    "}\n",
    "\n",
    "for(int elem : array) {\n",
    "    System.out.print(elem + \" \");\n",
    "}"
   ]
  },
  {
   "cell_type": "markdown",
   "metadata": {},
   "source": [
    "__Right rotation task:__"
   ]
  },
  {
   "cell_type": "code",
   "execution_count": 10,
   "metadata": {},
   "outputs": [],
   "source": [
    "public static int[] rightRotation(int[]arr,int rotation){\n",
    "\trotation = rotation % arr.length;\n",
    "    int[] arrRes = new int[arr.length];\n",
    "    int index = 0;\n",
    "    for(int i = 0; i < arr.length; i++) {\n",
    "        index = (i + rotation) % arr.length;\n",
    "        arrRes[index] = arr[i];\n",
    "    }\n",
    "    \n",
    "    return arrRes;\n",
    "}"
   ]
  },
  {
   "cell_type": "code",
   "execution_count": 15,
   "metadata": {},
   "outputs": [
    {
     "data": {
      "text/plain": [
       "[6, 1, 2, 3, 4, 5]"
      ]
     },
     "execution_count": 15,
     "metadata": {},
     "output_type": "execute_result"
    }
   ],
   "source": [
    "Arrays.toString(rightRotation(new int[] {1,2,3,4,5,6}, 7))"
   ]
  }
 ],
 "metadata": {
  "kernelspec": {
   "display_name": "Java",
   "language": "java",
   "name": "java"
  },
  "language_info": {
   "codemirror_mode": "java",
   "file_extension": ".java",
   "mimetype": "text/x-java-source",
   "name": "Java",
   "pygments_lexer": "java",
   "version": "11.0.1+13-LTS"
  }
 },
 "nbformat": 4,
 "nbformat_minor": 2
}
