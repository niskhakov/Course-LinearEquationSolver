{
 "cells": [
  {
   "cell_type": "markdown",
   "metadata": {},
   "source": [
    "## Primitive and reference types"
   ]
  },
  {
   "cell_type": "code",
   "execution_count": 1,
   "metadata": {},
   "outputs": [],
   "source": [
    "int num = 100; // Primitive"
   ]
  },
  {
   "cell_type": "code",
   "execution_count": 2,
   "metadata": {},
   "outputs": [],
   "source": [
    "String language = new String(\"java\");"
   ]
  },
  {
   "cell_type": "code",
   "execution_count": 3,
   "metadata": {},
   "outputs": [],
   "source": [
    "String language = \"java\";\n"
   ]
  },
  {
   "cell_type": "markdown",
   "metadata": {},
   "source": [
    "There are two main memory spaces: stack and heap. All values of primitive types are stored in stack memory, but variables of reference types store addresses on objects located in heap memory."
   ]
  },
  {
   "cell_type": "markdown",
   "metadata": {},
   "source": [
    "__Assignment__\n",
    "* primitive types: the value is just copied;\n",
    "* reference types: the address to the value is copied (the data is shared between several variables)"
   ]
  },
  {
   "cell_type": "code",
   "execution_count": 5,
   "metadata": {},
   "outputs": [],
   "source": [
    "int a = 100;\n",
    "int b = a; // 100 is copied to b\n",
    "\n",
    "String lang = new String(\"java\");\n",
    "String javaLang = lang;"
   ]
  },
  {
   "cell_type": "markdown",
   "metadata": {},
   "source": [
    "Comparison using == and != is senseless when we deal with reference types."
   ]
  },
  {
   "cell_type": "code",
   "execution_count": 6,
   "metadata": {},
   "outputs": [
    {
     "name": "stdout",
     "output_type": "stream",
     "text": [
      "false\n",
      "true\n"
     ]
    }
   ],
   "source": [
    "String s1 = new String(\"java\");\n",
    "String s2 = new String(\"java\");\n",
    "String s3 = s2;\n",
    "\n",
    "System.out.println(s1 == s2); // false\n",
    "System.out.println(s2 == s3); // true"
   ]
  },
  {
   "cell_type": "code",
   "execution_count": 7,
   "metadata": {},
   "outputs": [
    {
     "name": "stdout",
     "output_type": "stream",
     "text": [
      "true\n",
      "true\n"
     ]
    }
   ],
   "source": [
    "String s1 = new String(\"java\");\n",
    "String s2 = new String(\"java\");\n",
    "String s3 = s2;\n",
    "\n",
    "System.out.println(s1.equals(s2)); // true\n",
    "System.out.println(s2.equals(s3)); // true"
   ]
  },
  {
   "cell_type": "markdown",
   "metadata": {},
   "source": [
    "Unlike primitive types, a variable of a reference type can refer to a special __null__ object that represents the fact that it is not initialized yet or has not a value."
   ]
  },
  {
   "cell_type": "code",
   "execution_count": 8,
   "metadata": {},
   "outputs": [
    {
     "name": "stdout",
     "output_type": "stream",
     "text": [
      "null\n",
      "hello\n"
     ]
    }
   ],
   "source": [
    "String str = null;\n",
    "System.out.println(str); // null\n",
    "str = \"hello\";\n",
    "System.out.println(str); // hello"
   ]
  }
 ],
 "metadata": {
  "kernelspec": {
   "display_name": "Java",
   "language": "java",
   "name": "java"
  },
  "language_info": {
   "codemirror_mode": "java",
   "file_extension": ".java",
   "mimetype": "text/x-java-source",
   "name": "Java",
   "pygments_lexer": "java",
   "version": "11.0.1+13-LTS"
  }
 },
 "nbformat": 4,
 "nbformat_minor": 2
}
