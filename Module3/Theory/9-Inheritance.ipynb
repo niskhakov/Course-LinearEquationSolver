{
 "cells": [
  {
   "cell_type": "code",
   "execution_count": 1,
   "metadata": {},
   "outputs": [],
   "source": [
    "class Person {\n",
    "    protected String name;\n",
    "    protected int yearOfBirth;\n",
    "    protected String address;\n",
    "\n",
    "    // public getters and setters for all fields here\n",
    "}\n",
    "\n",
    "class Client extends Person {\n",
    "    protected String contractNumber;\n",
    "    protected boolean gold;\n",
    "\n",
    "    // public getters and setters for all fields here\n",
    "}\n",
    "\n",
    "class Employee extends Person {\n",
    "    protected Date startDate;\n",
    "    protected Long salary;\n",
    "\n",
    "    // public getters and setters for all fields here\n",
    "}\n",
    "\n",
    "class Programmer extends Employee {\n",
    "    protected String[] programmingLanguages;\n",
    "\n",
    "    public String[] getProgrammingLanguages() {\n",
    "        return programmingLanguages;\n",
    "    }\n",
    "\n",
    "    public void setProgrammingLanguages(String[] programmingLanguages) {\n",
    "        this.programmingLanguages = programmingLanguages;\n",
    "    }\n",
    "}\n",
    "\n",
    "class Manager extends Employee {\n",
    "    protected boolean smile;\n",
    "\n",
    "    public boolean isSmile() {\n",
    "        return smile;\n",
    "    }\n",
    "\n",
    "    public void setSmile(boolean smile) {\n",
    "        this.smile = smile;\n",
    "    }\n",
    "}"
   ]
  },
  {
   "cell_type": "code",
   "execution_count": 2,
   "metadata": {},
   "outputs": [
    {
     "ename": "CompilationException",
     "evalue": "",
     "output_type": "error",
     "traceback": [
      "\u001b[1m\u001b[30m|   \u001b[1m\u001b[30m\u001b[0m\u001b[1m\u001b[30m\u001b[41mp.setName\u001b[0m\u001b[1m\u001b[30m(\"John Elephant\");\u001b[0m",
      "\u001b[1m\u001b[31mcannot find symbol\u001b[0m",
      "\u001b[1m\u001b[31m  symbol:   method setName(java.lang.String)\u001b[0m",
      ""
     ]
    }
   ],
   "source": [
    "Programmer p = new Programmer();\n",
    "\n",
    "p.setName(\"John Elephant\");\n",
    "p.setYearOfBirth(1985);\n",
    "p.setAddress(\"Some street, 15\");\n",
    "p.setStartDate(new Date());\n",
    "p.setSalary(500_000L);\n",
    "p.setProgrammingLanguages(new String[] { \"Java\", \"Scala\", \"Kotlin\" });\n",
    "\n",
    "System.out.println(p.getName()); // John Elephant\n",
    "System.out.println(p.getSalary()); // 500000\n",
    "System.out.println(Arrays.toString(p.getProgrammingLanguages())); // [Java, Scala, Kotlin]"
   ]
  },
  {
   "cell_type": "markdown",
   "metadata": {},
   "source": [
    "__Inheritance t"
   ]
  }
 ],
 "metadata": {
  "kernelspec": {
   "display_name": "Java",
   "language": "java",
   "name": "java"
  },
  "language_info": {
   "codemirror_mode": "java",
   "file_extension": ".java",
   "mimetype": "text/x-java-source",
   "name": "Java",
   "pygments_lexer": "java",
   "version": "11.0.2+9-LTS"
  }
 },
 "nbformat": 4,
 "nbformat_minor": 2
}
