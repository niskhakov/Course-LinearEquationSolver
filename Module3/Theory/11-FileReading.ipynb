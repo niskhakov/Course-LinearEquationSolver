{
 "cells": [
  {
   "cell_type": "markdown",
   "metadata": {},
   "source": [
    "# Reading Files"
   ]
  },
  {
   "cell_type": "markdown",
   "metadata": {},
   "source": [
    "## Reading data using Scanner"
   ]
  },
  {
   "cell_type": "code",
   "execution_count": null,
   "metadata": {},
   "outputs": [],
   "source": [
    "File file = new File(pathToFile);\n",
    "Scanner scanner = new Scanner(file); // it throws FileNotFoundException (checked)"
   ]
  },
  {
   "cell_type": "code",
   "execution_count": null,
   "metadata": {},
   "outputs": [],
   "source": [
    "while (scanner.hasNextInt()) {\n",
    "    System.out.print(scanner.nextInt() + \" \");\n",
    "}"
   ]
  },
  {
   "cell_type": "markdown",
   "metadata": {},
   "source": [
    "Using try-with-resources statement, to prevent leaks"
   ]
  },
  {
   "cell_type": "code",
   "execution_count": null,
   "metadata": {},
   "outputs": [],
   "source": [
    "File file = new File(pathToFile);\n",
    "\n",
    "try (Scanner scanner = new Scanner(file)) {\n",
    "    while (scanner.hasNextInt()) {\n",
    "        System.out.print(scanner.nextInt() + \" \");\n",
    "    }\n",
    "} catch (FileNotFoundException e) {\n",
    "    System.out.println(\"No file found: \" + pathToFile);\n",
    "}"
   ]
  },
  {
   "cell_type": "markdown",
   "metadata": {},
   "source": [
    "## Reading all text from a file as a single string"
   ]
  },
  {
   "cell_type": "code",
   "execution_count": 1,
   "metadata": {},
   "outputs": [],
   "source": [
    "import java.nio.file.Files;\n",
    "import java.nio.file.Paths;"
   ]
  },
  {
   "cell_type": "code",
   "execution_count": 2,
   "metadata": {},
   "outputs": [],
   "source": [
    "public static String readFileAsString(String fileName) throws IOException {\n",
    "\n",
    "    return new String(Files.readAllBytes(Paths.get(fileName)));\n",
    "}"
   ]
  },
  {
   "cell_type": "code",
   "execution_count": 3,
   "metadata": {},
   "outputs": [
    {
     "name": "stdout",
     "output_type": "stream",
     "text": [
      "import java.util.ArrayList;\n",
      "import java.util.Scanner;\n",
      "\n",
      "public class ArrayTask {\n",
      "\n",
      "    /**\n",
      "     * Input:\n",
      "     *  9 5 3\n",
      "     *  0 7 -1\n",
      "     *  -5 2 9\n",
      "     *  end\n",
      "     *\n",
      "     *  Output (Sum of (i-1,j) (i+1,j) (i, j+1), (i, j-1) elements):\n",
      "     *  3 21 22\n",
      "     *  10 6 19\n",
      "     *  20 16 -1\n",
      "     * @param args\n",
      "     */\n",
      "    public static void main(String[] args) {\n",
      "        Scanner scanner = new Scanner(System.in);\n",
      "        ArrayList<String> lines = new ArrayList<>();\n",
      "        String input;\n",
      "        while(!(input = scanner.nextLine()).equals(\"end\")) {\n",
      "            lines.add(input);\n",
      "        }\n",
      "\n",
      "        int n = lines.size();\n",
      "\n",
      "        int[][] matrix = new int[n][n];\n",
      "        String[] values;\n",
      "        for(int i = 0; i < n; i++) {\n",
      "            values = lines.get(i).split(\" \");\n",
      "            for(int j = 0; j < n; j++) {\n",
      "                matrix[i][j] = Integer.parseInt(values[j]);\n",
      "//                System.out.print(matrix[i][j] + \" \");\n",
      "            }\n",
      "//            System.out.println();\n",
      "        }\n",
      "\n",
      "        int[][] result = new int[n][n];\n",
      "        int iLeft, iRight, jUp, jDown;\n",
      "        int sum;\n",
      "        for(int i = 0; i < n; i++) {\n",
      "            for(int j = 0; j < n; j++) {\n",
      "                iLeft =      i == 0 ? n - 1: i - 1;\n",
      "                iRight = i == (n-1) ? 0 : i + 1;\n",
      "                jUp =        j == 0 ? (n-1) : j - 1;\n",
      "                jDown =  j == (n-1) ? 0 : j + 1;\n",
      "\n",
      "                sum = matrix[iLeft][j] + matrix[iRight][j] + matrix[i][jUp] + matrix[i][jDown];\n",
      "                result[i][j] = sum;\n",
      "            }\n",
      "        }\n",
      "\n",
      "        for(int i = 0; i < n; i++) {\n",
      "            for(int j = 0; j < n; j++) {\n",
      "                System.out.print(result[i][j] + \" \");\n",
      "            }\n",
      "            System.out.println();\n",
      "        }\n",
      "    }\n",
      "}\n",
      "\n"
     ]
    }
   ],
   "source": [
    "import java.io.File;\n",
    "import java.io.IOException;\n",
    "import java.nio.file.Files;\n",
    "import java.nio.file.Paths;\n",
    "\n",
    "public class ReadingFileDemo {\n",
    "\n",
    "    public static String readFileAsString(String fileName) throws IOException {\n",
    "\n",
    "        return new String(Files.readAllBytes(Paths.get(fileName)));\n",
    "    }\n",
    "\n",
    "    public static void main(String[] args) {\n",
    "\n",
    "        String pathToHelloWorldJava = \"C:\\\\Users\\\\User\\\\Documents\\\\Hyperskill\\\\LinearEquationSolver-Java\\\\Module3\\\\Theory\\\\MultidimensonalArrayTask\\\\src\\\\ArrayTask.java\";\n",
    "\n",
    "        try {\n",
    "            System.out.println(readFileAsString(pathToHelloWorldJava));\n",
    "        } catch (IOException e) {\n",
    "            System.out.println(\"Cannot read file: \" + e.getMessage());\n",
    "        }\n",
    "    }\n",
    "}\n",
    "\n",
    "ReadingFileDemo.main(null);"
   ]
  },
  {
   "cell_type": "markdown",
   "metadata": {},
   "source": [
    "__Count numbers in a file task:__"
   ]
  },
  {
   "cell_type": "markdown",
   "metadata": {},
   "source": [
    "See idea projects.."
   ]
  }
 ],
 "metadata": {
  "kernelspec": {
   "display_name": "Java",
   "language": "java",
   "name": "java"
  },
  "language_info": {
   "codemirror_mode": "java",
   "file_extension": ".java",
   "mimetype": "text/x-java-source",
   "name": "Java",
   "pygments_lexer": "java",
   "version": "11.0.2+9-LTS"
  }
 },
 "nbformat": 4,
 "nbformat_minor": 2
}
