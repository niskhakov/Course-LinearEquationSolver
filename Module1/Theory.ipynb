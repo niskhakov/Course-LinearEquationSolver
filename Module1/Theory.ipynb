{
 "cells": [
  {
   "cell_type": "markdown",
   "metadata": {},
   "source": [
    "## Floating-point types\n"
   ]
  },
  {
   "cell_type": "code",
   "execution_count": 1,
   "metadata": {},
   "outputs": [
    {
     "name": "stdout",
     "output_type": "stream",
     "text": [
      "3.1415\n"
     ]
    }
   ],
   "source": [
    "double zero = 0.0;\n",
    "double one = 1.0;\n",
    "double negNumber = -1.75;\n",
    "double pi = 3.1415;\n",
    "\n",
    "System.out.println(pi); // 3.1415 or 3,1415 depending on computer settings"
   ]
  },
  {
   "cell_type": "code",
   "execution_count": 2,
   "metadata": {},
   "outputs": [
    {
     "name": "stdout",
     "output_type": "stream",
     "text": [
      "1.0\n"
     ]
    }
   ],
   "source": [
    "double one = 1;\n",
    "System.out.println(one); // 1.0 or 1,0"
   ]
  },
  {
   "cell_type": "code",
   "execution_count": 3,
   "metadata": {},
   "outputs": [
    {
     "name": "stdout",
     "output_type": "stream",
     "text": [
      "3.1415\n"
     ]
    }
   ],
   "source": [
    "float pi = 3.1415f;\n",
    "float negValue = -0.15f;\n",
    "System.out.println(pi); // 3.1415 or 3,1415 without f"
   ]
  },
  {
   "cell_type": "code",
   "execution_count": 4,
   "metadata": {},
   "outputs": [
    {
     "name": "stdout",
     "output_type": "stream",
     "text": [
      "0.8888889\n"
     ]
    }
   ],
   "source": [
    "float f = 0.888888888888888888f; // a value with a lot of decimal digits\n",
    "System.out.println(f);           // it only prints 0.8888889"
   ]
  },
  {
   "cell_type": "code",
   "execution_count": 5,
   "metadata": {},
   "outputs": [],
   "source": [
    "double eps = 5e-3; // means 5 * 10^(-3) = 0.005\n",
    "double n = 0.01e2; // means 0.01 * 10^2 = 1.0"
   ]
  },
  {
   "cell_type": "code",
   "execution_count": 6,
   "metadata": {},
   "outputs": [],
   "source": [
    "double one = 1.0;\n",
    "double number = one + 1.5; // 2.5\n",
    "\n",
    "double a = 1.75;\n",
    "double b = 5.0;\n",
    "double c = b - a; // 3.25\n",
    "\n",
    "double pi = 3.1415;\n",
    "double squaredPi = pi * pi; // 9.86902225"
   ]
  },
  {
   "cell_type": "code",
   "execution_count": 7,
   "metadata": {},
   "outputs": [
    {
     "name": "stdout",
     "output_type": "stream",
     "text": [
      "4.934511125\n"
     ]
    }
   ],
   "source": [
    "System.out.println(squaredPi / 2); // 4.934511125"
   ]
  },
  {
   "cell_type": "code",
   "execution_count": 8,
   "metadata": {},
   "outputs": [],
   "source": [
    "double d1 = 5 / 4; // 1.0\n",
    "double d2 = 5.0 / 4; // 1.25"
   ]
  },
  {
   "cell_type": "markdown",
   "metadata": {},
   "source": [
    "### Errors during computations:"
   ]
  },
  {
   "cell_type": "code",
   "execution_count": 9,
   "metadata": {},
   "outputs": [
    {
     "name": "stdout",
     "output_type": "stream",
     "text": [
      "1.0999999999999999\n"
     ]
    }
   ],
   "source": [
    "System.out.println(3.3 / 3); // prints 1.0999999999999999\n"
   ]
  },
  {
   "cell_type": "code",
   "execution_count": 10,
   "metadata": {},
   "outputs": [
    {
     "name": "stdout",
     "output_type": "stream",
     "text": [
      "0.9999999999999999\n"
     ]
    }
   ],
   "source": [
    "double d = 0.1 + 0.1 + 0.1 + 0.1 + 0.1 + 0.1 + 0.1 + 0.1 + 0.1 + 0.1; // Sum of 10 decimals 0.1\n",
    "System.out.println(d); // it prints 0.9999999999999999"
   ]
  },
  {
   "cell_type": "code",
   "execution_count": 11,
   "metadata": {},
   "outputs": [],
   "source": [
    "import java.util.Scanner;"
   ]
  },
  {
   "cell_type": "code",
   "execution_count": 14,
   "metadata": {},
   "outputs": [
    {
     "name": "stdin",
     "output_type": "stream",
     "text": [
      " 1,5\n",
      " 1,20\n"
     ]
    }
   ],
   "source": [
    "Scanner scanner = new Scanner(System.in);\n",
    "\n",
    "float f = scanner.nextFloat();\n",
    "double d = scanner.nextDouble();"
   ]
  },
  {
   "cell_type": "code",
   "execution_count": 17,
   "metadata": {},
   "outputs": [
    {
     "name": "stdin",
     "output_type": "stream",
     "text": [
      " 1.0 5.0\n"
     ]
    },
    {
     "name": "stdout",
     "output_type": "stream",
     "text": [
      "2.5\n"
     ]
    }
   ],
   "source": [
    "Scanner scanner = new Scanner(System.in).useLocale(Locale.US);\n",
    "\n",
    "double base = scanner.nextDouble();\n",
    "double height = scanner.nextDouble();\n",
    "\n",
    "double area = (base * height) / 2;\n",
    "\n",
    "System.out.println(area);"
   ]
  },
  {
   "cell_type": "markdown",
   "metadata": {},
   "source": [
    "__Liquid pressure task:__"
   ]
  },
  {
   "cell_type": "markdown",
   "metadata": {},
   "source": [
    "$p = \\rho \\cdot g \\cdot h$"
   ]
  },
  {
   "cell_type": "code",
   "execution_count": 20,
   "metadata": {},
   "outputs": [
    {
     "name": "stdin",
     "output_type": "stream",
     "text": [
      " 1.7 5.5\n"
     ]
    },
    {
     "name": "stdout",
     "output_type": "stream",
     "text": [
      "91.63\n"
     ]
    }
   ],
   "source": [
    "Scanner scanner = new Scanner(System.in).useLocale(Locale.US);\n",
    "\n",
    "double rho = scanner.nextDouble();\n",
    "double h = scanner.nextDouble();\n",
    "double g = 9.8;\n",
    "\n",
    "System.out.println(rho*g*h);"
   ]
  },
  {
   "cell_type": "markdown",
   "metadata": {},
   "source": [
    "__Celsius to Fahrenheit task:__"
   ]
  },
  {
   "cell_type": "markdown",
   "metadata": {},
   "source": [
    "$F = C \\cdot 1.8 + 32$"
   ]
  },
  {
   "cell_type": "code",
   "execution_count": 23,
   "metadata": {},
   "outputs": [
    {
     "name": "stdin",
     "output_type": "stream",
     "text": [
      " 0\n"
     ]
    },
    {
     "name": "stdout",
     "output_type": "stream",
     "text": [
      "32.0\n"
     ]
    }
   ],
   "source": [
    "Scanner scanner = new Scanner(System.in).useLocale(Locale.US);\n",
    "double C = scanner.nextDouble();\n",
    "double F = C * 1.8 + 32;\n",
    "System.out.println(F);"
   ]
  },
  {
   "cell_type": "markdown",
   "metadata": {},
   "source": [
    "__Difference between two doubles task:__"
   ]
  },
  {
   "cell_type": "code",
   "execution_count": 27,
   "metadata": {},
   "outputs": [
    {
     "name": "stdin",
     "output_type": "stream",
     "text": [
      " 18.4 -5.0\n"
     ]
    },
    {
     "name": "stdout",
     "output_type": "stream",
     "text": [
      "-23.4\n"
     ]
    }
   ],
   "source": [
    "Scanner scanner = new Scanner(System.in).useLocale(Locale.US);\n",
    "\n",
    "double v1 = scanner.nextDouble();\n",
    "double v2 = scanner.nextDouble();\n",
    "\n",
    "System.out.println(v2 - v1);"
   ]
  }
 ],
 "metadata": {
  "kernelspec": {
   "display_name": "Java",
   "language": "java",
   "name": "java"
  },
  "language_info": {
   "codemirror_mode": "java",
   "file_extension": ".java",
   "mimetype": "text/x-java-source",
   "name": "Java",
   "pygments_lexer": "java",
   "version": "11.0.1+13-LTS"
  }
 },
 "nbformat": 4,
 "nbformat_minor": 2
}
