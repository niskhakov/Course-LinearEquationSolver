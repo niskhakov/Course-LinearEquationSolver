{
 "cells": [
  {
   "cell_type": "markdown",
   "metadata": {},
   "source": [
    "# Overloading"
   ]
  },
  {
   "cell_type": "markdown",
   "metadata": {},
   "source": [
    "Overloading is a form of the static (compile-time) polymorphism."
   ]
  },
  {
   "cell_type": "code",
   "execution_count": 3,
   "metadata": {},
   "outputs": [],
   "source": [
    "public class OverloadingExample {\n",
    "\n",
    "    public static void print(short a) {\n",
    "        System.out.println(\"short arg: \" + a);\n",
    "    }\n",
    "\n",
    "//     public static void print(int a) {\n",
    "//         System.out.println(\"int arg: \" + a);\n",
    "//     }\n",
    "\n",
    "//     public static void print(long a) {\n",
    "//         System.out.println(\"long arg: \" + a);\n",
    "//     }\n",
    "\n",
    "    public static void print(double a) {\n",
    "        System.out.println(\"double arg: \" + a);\n",
    "    }\n",
    "\n",
    "    public static void main(String[] args) {\n",
    "        print(100);\n",
    "    }\n",
    "}"
   ]
  },
  {
   "cell_type": "code",
   "execution_count": 6,
   "metadata": {},
   "outputs": [
    {
     "name": "stdout",
     "output_type": "stream",
     "text": [
      "double arg: 100.0\n",
      "short arg: 100\n"
     ]
    }
   ],
   "source": [
    "int arg = 100;\n",
    "OverloadingExample.print(arg);\n",
    "OverloadingExample.print((short) arg)"
   ]
  },
  {
   "cell_type": "markdown",
   "metadata": {},
   "source": [
    "In this way, the compiler chooses the most suitable method in the order of implicit casting. "
   ]
  },
  {
   "cell_type": "markdown",
   "metadata": {},
   "source": [
    "__Print task:__"
   ]
  },
  {
   "cell_type": "code",
   "execution_count": 7,
   "metadata": {},
   "outputs": [],
   "source": [
    "import java.util.Scanner;\n",
    "\n",
    "public class Main {\n",
    "\n",
    "    public static void print(String strArg) {\n",
    "        System.out.println(String.format(\"print(\\\"%s\\\")\", strArg));\n",
    "    }\n",
    "\n",
    "    public static void print(String string, int n) {\n",
    "        System.out.println(String.format(\"print(\\\"%s\\\", %d)\", string, n));\n",
    "       \n",
    "    }\n",
    "\n",
    "    /* Do not change code below */\n",
    "    public static void main(String[] args) {\n",
    "        Scanner scanner = new Scanner(System.in);\n",
    "        String str = scanner.nextLine();\n",
    "        int val = scanner.nextInt();\n",
    "        print(str);\n",
    "        print(str, val);\n",
    "    }\n",
    "}"
   ]
  },
  {
   "cell_type": "markdown",
   "metadata": {},
   "source": [
    "__Overloading methods task:__"
   ]
  },
  {
   "cell_type": "code",
   "execution_count": 8,
   "metadata": {},
   "outputs": [],
   "source": [
    "import java.util.Scanner;\n",
    "\n",
    "public class Main {\n",
    "\n",
    "    public static long getMaxMinusCurrent(long val) {\n",
    "        return Long.MAX_VALUE - val;\n",
    "    }\n",
    "\n",
    "    public static int getMaxMinusCurrent(int val) {\n",
    "        return Integer.MAX_VALUE - val;\n",
    "    }\n",
    "    \n",
    "    public static short getMaxMinusCurrent(short val) {\n",
    "        return (short)(Short.MAX_VALUE - val);\n",
    "    }\n",
    "    \n",
    "    /* Do not change code below */\n",
    "    public static void main(String[] args) {\n",
    "        final Scanner scanner = new Scanner(System.in);\n",
    "        final String type = scanner.nextLine();\n",
    "        switch(type) {\n",
    "            case \"long\":\n",
    "                final long longVal = Long.parseLong(scanner.nextLine());\n",
    "                final long longResult = getMaxMinusCurrent(longVal);\n",
    "                System.out.println(longResult);\n",
    "                break;\n",
    "            case \"int\":\n",
    "                final int intVal = Integer.parseInt(scanner.nextLine());\n",
    "                final int intResult = getMaxMinusCurrent(intVal);\n",
    "                System.out.println(intResult);\n",
    "                break;\n",
    "            case \"short\":\n",
    "                final short shortVal = Short.parseShort(scanner.nextLine());\n",
    "                final short shortResult = getMaxMinusCurrent(shortVal);\n",
    "                System.out.println(shortResult);\n",
    "                break;\n",
    "            default:\n",
    "                System.out.println(\"Unknown type found\");\n",
    "        }\n",
    "    }\n",
    "}"
   ]
  },
  {
   "cell_type": "markdown",
   "metadata": {},
   "source": [
    "__Find index of max in array task:__"
   ]
  },
  {
   "cell_type": "code",
   "execution_count": 9,
   "metadata": {},
   "outputs": [],
   "source": [
    "import java.util.Arrays;\n",
    "import java.util.Scanner;\n",
    "\n",
    "public class Main {\n",
    "\n",
    "    public static int findIndexOfMaxInArray(int[] array, boolean findFirst) {\n",
    "        int maxIndex;\n",
    "        if(findFirst) {\n",
    "            maxIndex = 0;\n",
    "            for(int i = 0; i < array.length; i++) {\n",
    "                if(array[i] > array[maxIndex]) {\n",
    "                    maxIndex = i;\n",
    "                }\n",
    "            }\n",
    "        } else {\n",
    "            maxIndex = array.length - 1;\n",
    "            for(int i = array.length-1; i >= 0; i--) {\n",
    "                if(array[i] > array[maxIndex]) {\n",
    "                    maxIndex = i;\n",
    "                }\n",
    "            }\n",
    "        }\n",
    "        \n",
    "        return maxIndex;\n",
    "    }\n",
    "\n",
    "    public static int findIndexOfMaxInArray(int[] array) {\n",
    "        return findIndexOfMaxInArray(array, true);\n",
    "    }\n",
    "\n",
    "    /* Do not change code below */\n",
    "    public static void main(String[] args) {\n",
    "        Scanner scanner = new Scanner(System.in);\n",
    "        int[] numbers = Arrays.stream(scanner.nextLine().split(\"\\\\s+\"))\n",
    "                .mapToInt(Integer::parseInt)\n",
    "                .toArray();\n",
    "        int firstMax = findIndexOfMaxInArray(numbers);\n",
    "        int lastMax = findIndexOfMaxInArray(numbers, false);\n",
    "        System.out.println(firstMax + \" \" + lastMax);\n",
    "    }\n",
    "}\n"
   ]
  }
 ],
 "metadata": {
  "kernelspec": {
   "display_name": "Java",
   "language": "java",
   "name": "java"
  },
  "language_info": {
   "codemirror_mode": "java",
   "file_extension": ".java",
   "mimetype": "text/x-java-source",
   "name": "Java",
   "pygments_lexer": "java",
   "version": "11.0.2+9-LTS"
  }
 },
 "nbformat": 4,
 "nbformat_minor": 2
}
