{
 "cells": [
  {
   "cell_type": "markdown",
   "metadata": {},
   "source": [
    "# Constructor Overloading"
   ]
  },
  {
   "cell_type": "code",
   "execution_count": 1,
   "metadata": {},
   "outputs": [],
   "source": [
    "public class Robot {\n",
    "    String name;\n",
    "    String model;\n",
    "\n",
    "    public Robot() {\n",
    "        this.name = \"Anonymous\";\n",
    "        this.model = \"Unknown\";\n",
    "    }\n",
    "\n",
    "    public Robot(String name, String model) {\n",
    "        this.name = name;\n",
    "        this.model = model;\n",
    "    }\n",
    "}"
   ]
  },
  {
   "cell_type": "code",
   "execution_count": 2,
   "metadata": {},
   "outputs": [],
   "source": [
    "Robot anonymous = new Robot(); // name is \"Anonymous\", model is \"Unknown\"\n",
    "Robot andrew = new Robot(\"Andrew\", \"NDR-114\"); // name is \"Andrew\", model is \"NDR-114\""
   ]
  },
  {
   "cell_type": "markdown",
   "metadata": {},
   "source": [
    "## Invoking constructors from other constructors"
   ]
  },
  {
   "cell_type": "markdown",
   "metadata": {},
   "source": [
    "* this(); // it calls a no-argument constructor\n",
    "* this(\"arg1\", \"arg2\"); // it calls a constructor with two string arguments"
   ]
  },
  {
   "cell_type": "markdown",
   "metadata": {},
   "source": [
    "__Important__, the statement for invoking a constructor should be the first statement in the body of a caller constructor.\n"
   ]
  },
  {
   "cell_type": "code",
   "execution_count": 4,
   "metadata": {},
   "outputs": [],
   "source": [
    "public class Robot {\n",
    "    String name;\n",
    "    String model;\n",
    "    int lifetime;\n",
    "\n",
    "    public Robot() {\n",
    "        this.name = \"Anonymous\";\n",
    "        this.model = \"Unknown\";\n",
    "    }\n",
    "\n",
    "    public Robot(String name, String model) {\n",
    "        this(name, model, 20);\n",
    "    }\n",
    "\n",
    "    public Robot(String name, String model, int lifetime) {\n",
    "        this.name = name;\n",
    "        this.model = model;\n",
    "        this.lifetime = lifetime;\n",
    "        System.out.println(\"The third constructor is invoked\");\n",
    "    }\n",
    "}"
   ]
  },
  {
   "cell_type": "code",
   "execution_count": 5,
   "metadata": {},
   "outputs": [
    {
     "name": "stdout",
     "output_type": "stream",
     "text": [
      "The third constructor is invoked\n"
     ]
    }
   ],
   "source": [
    "Robot andrew = new Robot(\"Andrew\", \"NDR-114\");"
   ]
  },
  {
   "cell_type": "markdown",
   "metadata": {},
   "source": [
    "__Phone task:__"
   ]
  },
  {
   "cell_type": "code",
   "execution_count": 6,
   "metadata": {},
   "outputs": [],
   "source": [
    "class Phone {\n",
    "\n",
    "    String ownerName;\n",
    "    String countryCode;\n",
    "    String cityCode;\n",
    "    String number;\n",
    "    \n",
    "    Phone(String ownerName, String number) {\n",
    "    \tthis(ownerName, null, null, number);\n",
    "    }\n",
    "    \n",
    "    Phone(String ownerName, String countryCode, String cityCode, String number) {\n",
    "        this.ownerName = ownerName;\n",
    "        this.number = number;\n",
    "        this.countryCode = countryCode;\n",
    "        this.cityCode = cityCode;\n",
    "    }\n",
    "}\n"
   ]
  },
  {
   "cell_type": "markdown",
   "metadata": {},
   "source": [
    "__Time task:__"
   ]
  },
  {
   "cell_type": "code",
   "execution_count": 7,
   "metadata": {},
   "outputs": [],
   "source": [
    "class Time {\n",
    "\n",
    "    int hours;\n",
    "    int minutes;\n",
    "    int seconds;\n",
    "    \n",
    "    Time(int hours) {\n",
    "        this(hours, 0, 0);\n",
    "    }\n",
    "    \n",
    "    Time(int hours, int minutes) {\n",
    "        this(hours, minutes, 0);\n",
    "    }\n",
    "    \n",
    "    Time(int hours, int minutes, int seconds) {\n",
    "        this.hours = hours;\n",
    "        this.minutes = minutes;\n",
    "        this.seconds = seconds;\n",
    "    }\n",
    "}\n"
   ]
  },
  {
   "cell_type": "markdown",
   "metadata": {},
   "source": [
    "__Employee task:__"
   ]
  },
  {
   "cell_type": "code",
   "execution_count": 8,
   "metadata": {},
   "outputs": [],
   "source": [
    "class Employee {\n",
    "\n",
    "    String name;\n",
    "    int salary;\n",
    "    String address;\n",
    "    \n",
    "    Employee() {\n",
    "        this(\"unknown\", 0, \"unknown\");\n",
    "    }\n",
    "    \n",
    "    Employee(String name, int salary) {\n",
    "        this(name, salary, \"unknown\");\n",
    "    }\n",
    "\n",
    "    Employee(String name, int salary, String address) {\n",
    "        this.name = name;\n",
    "        this.salary = salary;\n",
    "        this.address = address;\n",
    "    }\n",
    "}\n"
   ]
  }
 ],
 "metadata": {
  "kernelspec": {
   "display_name": "Java",
   "language": "java",
   "name": "java"
  },
  "language_info": {
   "codemirror_mode": "java",
   "file_extension": ".java",
   "mimetype": "text/x-java-source",
   "name": "Java",
   "pygments_lexer": "java",
   "version": "11.0.2+9-LTS"
  }
 },
 "nbformat": 4,
 "nbformat_minor": 2
}
