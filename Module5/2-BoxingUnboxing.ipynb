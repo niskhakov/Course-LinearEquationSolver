{
 "cells": [
  {
   "cell_type": "markdown",
   "metadata": {},
   "source": [
    "# Boxing and Unboxing"
   ]
  },
  {
   "cell_type": "code",
   "execution_count": 1,
   "metadata": {},
   "outputs": [],
   "source": [
    "int primitive = 100;\n",
    "\n",
    "Integer reference = Integer.valueOf(primitive); // boxing\n",
    "\n",
    "int anotherPrimitive = reference.intValue();    // unboxing"
   ]
  },
  {
   "cell_type": "markdown",
   "metadata": {},
   "source": [
    "Autoboxing and auto-unboxing are the automatic conversions performed by java compiler."
   ]
  },
  {
   "cell_type": "code",
   "execution_count": 2,
   "metadata": {},
   "outputs": [],
   "source": [
    "double primitiveDouble = 10.8;\n",
    "\n",
    "Double wrapperDouble = primitiveDouble; // autoboxing\n",
    "\n",
    "double anotherPrimitiveDouble = wrapperDouble;  // auto-unboxing"
   ]
  },
  {
   "cell_type": "code",
   "execution_count": 3,
   "metadata": {},
   "outputs": [],
   "source": [
    "Long[] array = { 1L, 2L, 3L, 4L };"
   ]
  },
  {
   "cell_type": "markdown",
   "metadata": {},
   "source": [
    "There is one possible problem when unpacking. If the wrapper object is null, the unpacking throws the NullPointerException."
   ]
  },
  {
   "cell_type": "code",
   "execution_count": 4,
   "metadata": {},
   "outputs": [
    {
     "ename": "EvalException",
     "evalue": "null",
     "output_type": "error",
     "traceback": [
      "\u001b[1m\u001b[31m---------------------------------------------------------------------------\u001b[0m",
      "\u001b[1m\u001b[31mjava.lang.NullPointerException: null\u001b[0m",
      "\u001b[1m\u001b[31m\tat .(#26:1)\u001b[0m"
     ]
    }
   ],
   "source": [
    "Long longVal = null;\n",
    "long primitiveLong = longVal; // it throws NullPointerException (NPE)"
   ]
  },
  {
   "cell_type": "markdown",
   "metadata": {},
   "source": [
    "## Constructing wrappers based on other types"
   ]
  },
  {
   "cell_type": "code",
   "execution_count": 5,
   "metadata": {},
   "outputs": [],
   "source": [
    "Integer number = new Integer(\"10012\");   // an Integer from the string \"10012\"\n",
    "Float f = new Float(\"0.01\");             // a Float from the sting \"0.01\"\n",
    "Long longNumber = new Long(\"100000000\"); // a Long from the string \"100000000\"\n",
    "Boolean boolVal = new Boolean(\"true\");   // a Boolean from the string \"true\""
   ]
  },
  {
   "cell_type": "markdown",
   "metadata": {},
   "source": [
    "Special methods:"
   ]
  },
  {
   "cell_type": "code",
   "execution_count": 6,
   "metadata": {},
   "outputs": [],
   "source": [
    "Long longVal = Long.parseLong(\"1000\");      // a Long from the string \"1000\"\n",
    "Long anotherLongVal = Long.valueOf(\"2000\"); // another Long from the string \"2000\""
   ]
  },
  {
   "cell_type": "markdown",
   "metadata": {},
   "source": [
    "These methods throw the NumberFormatException"
   ]
  },
  {
   "cell_type": "markdown",
   "metadata": {},
   "source": [
    "## Primitive types vs wrapper classes\n",
    "* processing values of primitive types are faster than wrapper objects;\n",
    "* wrappers can be used in the situation if you need \"null\" as a no-value indicator;\n",
    "* primitive types cannot be used in collections, but wrappers can."
   ]
  },
  {
   "cell_type": "markdown",
   "metadata": {},
   "source": [
    "## Comparing wrappers"
   ]
  },
  {
   "cell_type": "code",
   "execution_count": 7,
   "metadata": {},
   "outputs": [
    {
     "name": "stdout",
     "output_type": "stream",
     "text": [
      "false\n",
      "true\n"
     ]
    }
   ],
   "source": [
    "Long i1 = Long.valueOf(\"2000\");\n",
    "Long i2 = Long.valueOf(\"2000\");\n",
    "System.out.println(i1 == i2);      // false\n",
    "System.out.println(i1.equals(i2)); // true"
   ]
  },
  {
   "cell_type": "markdown",
   "metadata": {},
   "source": [
    "__To promitive task:__"
   ]
  },
  {
   "cell_type": "code",
   "execution_count": 8,
   "metadata": {},
   "outputs": [],
   "source": [
    "public static boolean toPrimitive(Boolean b) {\n",
    "    if(b == null)\n",
    "        return false;\n",
    "    return b;\n",
    "}\n"
   ]
  },
  {
   "cell_type": "markdown",
   "metadata": {},
   "source": [
    "__Safe converting task:__"
   ]
  },
  {
   "cell_type": "code",
   "execution_count": 11,
   "metadata": {},
   "outputs": [],
   "source": [
    "import java.util.Scanner;\n",
    "\n",
    "public class Main {\n",
    "\n",
    "    public static int convert(Long val) {\n",
    "        if(val == null) {\n",
    "            return 0;\n",
    "        }\n",
    "        \n",
    "        if(val > Integer.MAX_VALUE) {\n",
    "            return Integer.MAX_VALUE;\n",
    "        }\n",
    "        \n",
    "        return (int)val.longValue();\n",
    "    }\n",
    "\n",
    "    /* Do not change code below */\n",
    "    public static void main(String[] args) {\n",
    "        Scanner scanner = new Scanner(System.in);\n",
    "        String val = scanner.nextLine();\n",
    "        Long longVal = val.equals(\"null\") ? null : Long.parseLong(val);\n",
    "        System.out.println(convert(longVal));\n",
    "    }\n",
    "}\n"
   ]
  },
  {
   "cell_type": "markdown",
   "metadata": {},
   "source": [
    "__From double to integer:__"
   ]
  },
  {
   "cell_type": "code",
   "execution_count": 12,
   "metadata": {},
   "outputs": [],
   "source": [
    "import java.util.*;\n",
    "\n",
    "public class Main {\n",
    "\n",
    "    public static int convert(Double val) {\n",
    "        if(val.isNaN())\n",
    "            return 0;\n",
    "        if(val.isInfinite()) {\n",
    "        \treturn val > 0 ? Integer.MAX_VALUE : Integer.MIN_VALUE;\n",
    "        }\n",
    "        return (int)val.longValue();\n",
    "    }\n",
    "\n",
    "    /* Do not change code below */\n",
    "    public static void main(String[] args) {\n",
    "        Scanner scanner = new Scanner(System.in);\n",
    "        Double doubleVal = new Double(scanner.nextDouble() / scanner.nextDouble());\n",
    "        System.out.println(convert(doubleVal));\n",
    "    }\n",
    "}\n"
   ]
  }
 ],
 "metadata": {
  "kernelspec": {
   "display_name": "Java",
   "language": "java",
   "name": "java"
  },
  "language_info": {
   "codemirror_mode": "java",
   "file_extension": ".java",
   "mimetype": "text/x-java-source",
   "name": "Java",
   "pygments_lexer": "java",
   "version": "11.0.2+9-LTS"
  }
 },
 "nbformat": 4,
 "nbformat_minor": 2
}
