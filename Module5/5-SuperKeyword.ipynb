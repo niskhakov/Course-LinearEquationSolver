{
 "cells": [
  {
   "cell_type": "markdown",
   "metadata": {},
   "source": [
    "# The keyword super"
   ]
  },
  {
   "cell_type": "markdown",
   "metadata": {},
   "source": [
    "# Accessing superclass"
   ]
  },
  {
   "cell_type": "code",
   "execution_count": 1,
   "metadata": {},
   "outputs": [],
   "source": [
    "class SuperClass {\n",
    "    \n",
    "    protected int field;\n",
    "\n",
    "    protected int getField() {\n",
    "        return field;\n",
    "    }\n",
    "    \n",
    "    protected void printBaseValue() {\n",
    "        System.out.println(field);\n",
    "    }\n",
    "}\n",
    "\n",
    "class SubClass extends SuperClass {\n",
    "    \n",
    "    protected int field;\n",
    "\n",
    "    public SubClass() {\n",
    "        this.field = 30;  // It initializes the field of SubClass\n",
    "        field = 30;       // It also initializes the field of SubClass\n",
    "        super.field = 20; // It initializes the field of SuperClass\n",
    "    }\n",
    "\n",
    "    /**     \n",
    "     * It prints the value of SuperClass and then the value of SubClass\n",
    "     */\n",
    "    public void printSubValue() {\n",
    "        super.printBaseValue(); // It invokes the method of SuperClass, super is optional here\n",
    "        System.out.println(field);\n",
    "    }\n",
    "}"
   ]
  },
  {
   "cell_type": "markdown",
   "metadata": {},
   "source": [
    "##  Invoking supercalss constructor"
   ]
  },
  {
   "cell_type": "markdown",
   "metadata": {},
   "source": [
    "Two important notes:\n",
    "\n",
    "* invoking super(...) must be the first statement is a subclass constructor, otherwise, the code cannot be compiled;\n",
    "* the default constructor of a subclass automatically calls the no-argument constructor of the superclass."
   ]
  },
  {
   "cell_type": "code",
   "execution_count": 3,
   "metadata": {},
   "outputs": [],
   "source": [
    "class Person {\n",
    "\n",
    "    protected String name;\n",
    "    protected int yearOfBirth;\n",
    "    protected String address;\n",
    "\n",
    "    public Person(String name, int yearOfBirth, String address) {\n",
    "        this.name = name;\n",
    "        this.yearOfBirth = yearOfBirth;\n",
    "        this.address = address;\n",
    "    }\n",
    "\n",
    "    // getters and setters\n",
    "}\n",
    "\n",
    "class Employee extends Person {\n",
    "\n",
    "    protected Date startDate;\n",
    "    protected Long salary;\n",
    "\n",
    "    public Employee(String name, int yearOfBirth, String address, Date startDate, Long salary) {\n",
    "        super(name, yearOfBirth, address); // invoking a constructor of the superclass\n",
    "        \n",
    "        this.startDate = startDate;\n",
    "        this.salary = salary;\n",
    "    }\n",
    "\n",
    "    // getters and setters\n",
    "}"
   ]
  },
  {
   "cell_type": "markdown",
   "metadata": {},
   "source": [
    "__Fix the non-compiled hierarchy task:__"
   ]
  },
  {
   "cell_type": "code",
   "execution_count": 4,
   "metadata": {},
   "outputs": [],
   "source": [
    "class Employee {\n",
    "\n",
    "    protected String name;\n",
    "    protected String birthDate;\n",
    "\n",
    "    public Employee(String name, String birthDate) {\n",
    "        this.name = name;\n",
    "        this.birthDate = birthDate;\n",
    "    }\n",
    "}\n",
    "\n",
    "class RegularEmployee extends Employee {\n",
    "\n",
    "    protected long salary;\n",
    "    protected String hireDate;\n",
    "\n",
    "    public RegularEmployee(String name, String birthDate, long salary, String hireDate) {\n",
    "        super(name, birthDate);\n",
    "        this.salary = salary;\n",
    "        this.hireDate = hireDate;\n",
    "    }\n",
    "}\n",
    "\n",
    "class ContractEmployee extends Employee {\n",
    "\n",
    "    protected long payPerHour;\n",
    "    protected String contractPeriod;\n",
    "\n",
    "    public ContractEmployee(String name, String birthDate, long payPerHour, String contractPeriod) {\n",
    "        super(name, birthDate);\n",
    "        this.payPerHour = payPerHour;\n",
    "        this.contractPeriod = contractPeriod;\n",
    "    }\n",
    "}"
   ]
  },
  {
   "cell_type": "markdown",
   "metadata": {},
   "source": [
    "__Bank Account task:__"
   ]
  },
  {
   "cell_type": "code",
   "execution_count": 5,
   "metadata": {},
   "outputs": [],
   "source": [
    "class BankAccount {\n",
    "\n",
    "    protected String number;\n",
    "    protected Long balance;\n",
    "\n",
    "    public BankAccount(String number, Long balance) {\n",
    "        this.number = number;\n",
    "        this.balance = balance;\n",
    "    }\n",
    "}\n",
    "\n",
    "class CheckingAccount extends BankAccount {\n",
    "   \tdouble fee;\n",
    "    \n",
    "    CheckingAccount(String number, Long balance, double fee) {\n",
    "        super(number, balance);\n",
    "        this.fee = fee;\n",
    "    }\n",
    "}\n",
    "\n",
    "class SavingAccount extends BankAccount {\n",
    "    double interestRate;\n",
    "    \n",
    "    SavingAccount(String number, Long balance, double rate) {\n",
    "        super(number, balance);\n",
    "        this.interestRate = rate;\n",
    "    }\n",
    "}\n"
   ]
  },
  {
   "cell_type": "markdown",
   "metadata": {},
   "source": [
    "__Publications task:__"
   ]
  },
  {
   "cell_type": "code",
   "execution_count": 6,
   "metadata": {},
   "outputs": [],
   "source": [
    "class Publication {\n",
    "\n",
    "    private String title;\n",
    "\n",
    "    public Publication(String title) {\n",
    "        this.title = title;\n",
    "    }\n",
    "\n",
    "    public String getDetails() {\n",
    "        return \"title=\\\"\" + title + \"\\\"\";\n",
    "    }\n",
    "\n",
    "}\n",
    "\n",
    "class Newspaper extends Publication {\n",
    "\n",
    "    private String source;\n",
    "\n",
    "    public Newspaper(String title, String source) {\n",
    "        super(title);\n",
    "        this.source = source;\n",
    "    }\n",
    "\n",
    "    public String getDetails() {\n",
    "        return super.getDetails() + String.format(\", source=\\\"%s\\\"\", source);\n",
    "    }\n",
    "\n",
    "}\n",
    "\n",
    "class Article extends Publication {\n",
    "\n",
    "    private String author;\n",
    "\n",
    "    public Article(String title, String author) {\n",
    "        super(title);\n",
    "        this.author = author;\n",
    "    }\n",
    "\n",
    "    public String getDetails() {\n",
    "        return super.getDetails() + String.format(\", author=\\\"%s\\\"\", author);\n",
    "    }\n",
    "\n",
    "}\n",
    "\n",
    "class Announcement extends Publication {\n",
    "\n",
    "    private int daysToExpire;\n",
    "\n",
    "    public Announcement(String title, int daysToExpire) {\n",
    "        super(title);\n",
    "        this.daysToExpire = daysToExpire;\n",
    "    }\n",
    "\n",
    "    public String getDetails() {\n",
    "        return super.getDetails() + String.format(\", daysToExpire=%d\", daysToExpire);\n",
    "    }\n",
    "\n",
    "}\n"
   ]
  }
 ],
 "metadata": {
  "kernelspec": {
   "display_name": "Java",
   "language": "java",
   "name": "java"
  },
  "language_info": {
   "codemirror_mode": "java",
   "file_extension": ".java",
   "mimetype": "text/x-java-source",
   "name": "Java",
   "pygments_lexer": "java",
   "version": "11.0.2+9-LTS"
  }
 },
 "nbformat": 4,
 "nbformat_minor": 2
}
