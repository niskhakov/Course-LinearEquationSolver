{
 "cells": [
  {
   "cell_type": "markdown",
   "metadata": {},
   "source": [
    "## 1. Subclass reference exmaple"
   ]
  },
  {
   "cell_type": "code",
   "execution_count": 3,
   "metadata": {},
   "outputs": [],
   "source": [
    "class Person {\n",
    "\n",
    "    protected String name;\n",
    "    protected int yearOfBirth;\n",
    "    protected String address;\n",
    "\n",
    "    // public getters and setters for all fields\n",
    "}\n",
    "\n",
    "class Client extends Person {\n",
    "\n",
    "    protected String contractNumber;\n",
    "    protected boolean gold;\n",
    "\n",
    "    // public getters and setters for all fields\n",
    "}\n",
    "\n",
    "class Employee extends Person {\n",
    "\n",
    "    protected Date startDate;\n",
    "    protected Long salary;\n",
    "\n",
    "    // public getters and setters for all fields\n",
    "}\n"
   ]
  },
  {
   "cell_type": "code",
   "execution_count": 4,
   "metadata": {},
   "outputs": [],
   "source": [
    "Person person = new Person(); // the reference is Person, the object is Person\n",
    "Client client = new Client(); // the reference is Client, the object is Client\n",
    "Employee employee = new Employee(); // the reference is Employee, the object is Employee"
   ]
  },
  {
   "cell_type": "markdown",
   "metadata": {},
   "source": [
    "## 2. Superclass reference exmaple"
   ]
  },
  {
   "cell_type": "code",
   "execution_count": 5,
   "metadata": {},
   "outputs": [],
   "source": [
    "Person client = new Client(); // the reference is Person, the object is Client\n",
    "Person employee = new Employee(); // the reference is Person, the object is Employee"
   ]
  },
  {
   "cell_type": "markdown",
   "metadata": {},
   "source": [
    "__Remember:__\n",
    "* you cannot assign an object of one subclass to the reference of the other subclass and vice versa because they don't inherit each other:\n",
    "\n",
    "Client whoIsIt = new Employee(); // it's impossible\n",
    "* you cannot assign an object of the parent class to the reference of its subclass:\n",
    "\n",
    "Client client = new Person(); // it's impossible too"
   ]
  },
  {
   "cell_type": "markdown",
   "metadata": {},
   "source": [
    "## Accessing fields and methods through a superclass reference"
   ]
  },
  {
   "cell_type": "code",
   "execution_count": null,
   "metadata": {},
   "outputs": [],
   "source": [
    "Person employee = new Employee();\n",
    "\n",
    "employee.setName(\"Ginger R. Lee\"); // Ok\n",
    "employee.setYearOfBirth(1980); // Ok\n",
    "employee.setSalary(30000); // Compile-time error, the base class \"doesn't known\" about the method"
   ]
  },
  {
   "cell_type": "markdown",
   "metadata": {},
   "source": [
    "## Casting between superclass and subclass"
   ]
  },
  {
   "cell_type": "markdown",
   "metadata": {},
   "source": [
    "ClassCastException may be thrown if the object really is not an instance of this subclass"
   ]
  },
  {
   "cell_type": "code",
   "execution_count": 6,
   "metadata": {},
   "outputs": [
    {
     "ename": "EvalException",
     "evalue": "class REPL.$JShell$21$Client cannot be cast to class REPL.$JShell$22$Employee (REPL.$JShell$21$Client and REPL.$JShell$22$Employee are in unnamed module of loader jdk.jshell.execution.DefaultLoaderDelegate$RemoteClassLoader @63355449)",
     "output_type": "error",
     "traceback": [
      "\u001b[1m\u001b[31m---------------------------------------------------------------------------\u001b[0m",
      "\u001b[1m\u001b[31mjava.lang.ClassCastException: class REPL.$JShell$21$Client cannot be cast to class REPL.$JShell$22$Employee (REPL.$JShell$21$Client and REPL.$JShell$22$Employee are in unnamed module of loader jdk.jshell.execution.DefaultLoaderDelegate$RemoteClassLoader @63355449)\u001b[0m",
      "\u001b[1m\u001b[31m\tat .(#24:1)\u001b[0m"
     ]
    }
   ],
   "source": [
    "Person person = new Client();\n",
    "\n",
    "Client clientAgain = (Client) person; // it's ok\n",
    "Employee employee = (Employee) person; // the ClassCastException occures here"
   ]
  }
 ],
 "metadata": {
  "kernelspec": {
   "display_name": "Java",
   "language": "java",
   "name": "java"
  },
  "language_info": {
   "codemirror_mode": "java",
   "file_extension": ".java",
   "mimetype": "text/x-java-source",
   "name": "Java",
   "pygments_lexer": "java",
   "version": "11.0.2+9-LTS"
  }
 },
 "nbformat": 4,
 "nbformat_minor": 2
}
