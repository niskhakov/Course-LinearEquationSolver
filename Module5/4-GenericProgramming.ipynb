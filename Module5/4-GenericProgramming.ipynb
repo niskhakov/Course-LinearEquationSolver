{
 "cells": [
  {
   "cell_type": "markdown",
   "metadata": {},
   "source": [
    "# Generic Programming"
   ]
  },
  {
   "cell_type": "markdown",
   "metadata": {},
   "source": [
    "## Type parameters "
   ]
  },
  {
   "cell_type": "code",
   "execution_count": 1,
   "metadata": {},
   "outputs": [],
   "source": [
    "class GenericType<T> { \n",
    "\n",
    "    /**\n",
    "     * A field of \"some type\"\n",
    "     */\n",
    "    private T t;\n",
    "\n",
    "    /**\n",
    "     * Takes a value of \"some type\" and set it to the field\n",
    "     */\n",
    "    public GenericType(T t) {\n",
    "        this.t = t;\n",
    "    }\n",
    "\n",
    "    /**\n",
    "     * Returns a value of \"some type\"\n",
    "     */\n",
    "    public T get() {\n",
    "        return t;\n",
    "    }\n",
    "\n",
    "    /**\n",
    "     * Takes a value of \"some type\", assigns it to a variable and then returns it\n",
    "     */\n",
    "    public T set(T parameter) {\n",
    "        T variable = parameter;\n",
    "        return variable;   \n",
    "    }\n",
    "}"
   ]
  },
  {
   "cell_type": "markdown",
   "metadata": {},
   "source": [
    "A class can have any number of type parameters. For example, the following class has three."
   ]
  },
  {
   "cell_type": "code",
   "execution_count": 2,
   "metadata": {},
   "outputs": [],
   "source": [
    "class Three<T, U, V> {\n",
    "    T t;\n",
    "    U u;\n",
    "    V v;\n",
    "}"
   ]
  },
  {
   "cell_type": "markdown",
   "metadata": {},
   "source": [
    "The most commonly used type parameter names are:\n",
    "\n",
    "* T – Type\n",
    "* S, U, V etc. – 2nd, 3rd, 4th types\n",
    "* E – Element (used extensively by the Java Collections Framework)\n",
    "* K – Key\n",
    "* V – Value\n",
    "* N – Number"
   ]
  },
  {
   "cell_type": "code",
   "execution_count": 3,
   "metadata": {},
   "outputs": [],
   "source": [
    "GenericType<Integer> instance1 = new GenericType<Integer>(10);\n",
    "\n",
    "GenericType<String> instance2 = new GenericType<String>(\"abc\");"
   ]
  },
  {
   "cell_type": "markdown",
   "metadata": {},
   "source": [
    "The pair of angle brackets is informally called the diamond operator."
   ]
  },
  {
   "cell_type": "code",
   "execution_count": 5,
   "metadata": {},
   "outputs": [],
   "source": [
    "GenericType<Integer> instance1 = new GenericType<>(10);\n",
    "\n",
    "GenericType<String> instance2 = new GenericType<>(\"abc\");"
   ]
  },
  {
   "cell_type": "code",
   "execution_count": 6,
   "metadata": {},
   "outputs": [
    {
     "name": "stdout",
     "output_type": "stream",
     "text": [
      "20\n",
      "def\n"
     ]
    }
   ],
   "source": [
    "Integer number = instance1.get(); // 10\n",
    "String string = instance2.get();  // \"abc\"\n",
    "\n",
    "System.out.println(instance1.set(20)); // prints the number 20\n",
    "System.out.println(instance2.set(\"def\")); // prints the string \"def\""
   ]
  },
  {
   "cell_type": "markdown",
   "metadata": {},
   "source": [
    "## Custom generic array"
   ]
  },
  {
   "cell_type": "code",
   "execution_count": 7,
   "metadata": {},
   "outputs": [],
   "source": [
    "public class ImmutableArray<T> {\n",
    "\n",
    "    private T[] items;\n",
    "\n",
    "    public ImmutableArray(T[] items) {\n",
    "        this.items = items;\n",
    "    }\n",
    "\n",
    "    public T get(int index) {\n",
    "        return items[index];\n",
    "    }\n",
    "\n",
    "    public int length() {\n",
    "        return items.length;\n",
    "    }\n",
    "}\n"
   ]
  },
  {
   "cell_type": "markdown",
   "metadata": {},
   "source": [
    "a generic class can have methods (like length) that do not use the parameter type at all."
   ]
  },
  {
   "cell_type": "code",
   "execution_count": 8,
   "metadata": {},
   "outputs": [
    {
     "name": "stdout",
     "output_type": "stream",
     "text": [
      "item1 item2 item3 "
     ]
    }
   ],
   "source": [
    "ImmutableArray<String> array = new ImmutableArray<>(new String[] { \"item1\", \"item2\", \"item3\"});\n",
    "\n",
    "for (int i = 0; i < array.length(); i++) {\n",
    "    System.out.print(array.get(i) + \" \");\n",
    "}"
   ]
  },
  {
   "cell_type": "markdown",
   "metadata": {},
   "source": [
    "__Packing pies, cakes, and tarts task:__"
   ]
  },
  {
   "cell_type": "code",
   "execution_count": 9,
   "metadata": {},
   "outputs": [
    {
     "ename": "CompilationException",
     "evalue": "",
     "output_type": "error",
     "traceback": [
      "\u001b[1m\u001b[30m|   \u001b[1m\u001b[30m/**\u001b[0m",
      "\u001b[1m\u001b[30m|   \u001b[1m\u001b[30m    Box for cakes\u001b[0m",
      "\u001b[1m\u001b[30m|   \u001b[1m\u001b[30m*/\u001b[0m",
      "\u001b[1m\u001b[30m|   \u001b[1m\u001b[30mclass CakeBox {\u001b[0m",
      "\u001b[1m\u001b[30m|   \u001b[1m\u001b[30m\u001b[0m",
      "\u001b[1m\u001b[30m|   \u001b[1m\u001b[30m    private Cake cake;\u001b[0m",
      "\u001b[1m\u001b[30m|   \u001b[1m\u001b[30m\u001b[0m",
      "\u001b[1m\u001b[30m|   \u001b[1m\u001b[30m    public void put(Cake cake) {\u001b[0m",
      "\u001b[1m\u001b[30m|   \u001b[1m\u001b[30m    \tthis.cake = cake;\u001b[0m",
      "\u001b[1m\u001b[30m|   \u001b[1m\u001b[30m    }\u001b[0m",
      "\u001b[1m\u001b[30m|   \u001b[1m\u001b[30m\u001b[0m",
      "\u001b[1m\u001b[30m|   \u001b[1m\u001b[30m    public Cake get() {\u001b[0m",
      "\u001b[1m\u001b[30m|   \u001b[1m\u001b[30m        return this.cake;\u001b[0m",
      "\u001b[1m\u001b[30m|   \u001b[1m\u001b[30m    }\u001b[0m",
      "\u001b[1m\u001b[30m|   \u001b[1m\u001b[30m}\u001b[0m",
      "\u001b[1m\u001b[31mUnresolved dependencies:\u001b[0m",
      "\u001b[1m\u001b[31m   - class Cake\u001b[0m"
     ]
    }
   ],
   "source": [
    "/**\n",
    "    Box for cakes\n",
    "*/\n",
    "class CakeBox {\n",
    "\n",
    "    private Cake cake;\n",
    "\n",
    "    public void put(Cake cake) {\n",
    "    \tthis.cake = cake;\n",
    "    }\n",
    "\n",
    "    public Cake get() {\n",
    "        return this.cake;\n",
    "    }\n",
    "}\n",
    "\n",
    "/**\n",
    "    Box for pies\n",
    "*/\n",
    "class PieBox {\n",
    "\n",
    "    private Pie pie;\n",
    "\n",
    "    public void put(Pie pie) {\n",
    "    \tthis.pie = pie;\n",
    "    }\n",
    "\n",
    "    public Pie get() {\n",
    "        return this.pie;\n",
    "    }\n",
    "}\n",
    "\n",
    "\n",
    "/**\n",
    "    Box for tarts\n",
    "*/\n",
    "class TartBox {\n",
    "\n",
    "    private Tart tart;\n",
    "\n",
    "    public void put(Tart tart) {\n",
    "    \tthis.tart = tart;\n",
    "    }\n",
    "\n",
    "    public Tart get() {\n",
    "        return this.tart;\n",
    "    }\n",
    "}\n",
    "\n",
    "/*\n",
    "    Hundred more such boring classes OR ...\n",
    "    magic class for everything everybody is waiting for\n",
    "*/\n",
    "class Box<T> {\n",
    "    private T element;\n",
    "    \n",
    "    public void put(T element) {\n",
    "        this.element = element;\n",
    "    }\n",
    "    \n",
    "    public T get() {\n",
    "        return this.element;\n",
    "    }\n",
    "}"
   ]
  }
 ],
 "metadata": {
  "kernelspec": {
   "display_name": "Java",
   "language": "java",
   "name": "java"
  },
  "language_info": {
   "codemirror_mode": "java",
   "file_extension": ".java",
   "mimetype": "text/x-java-source",
   "name": "Java",
   "pygments_lexer": "java",
   "version": "11.0.2+9-LTS"
  }
 },
 "nbformat": 4,
 "nbformat_minor": 2
}
