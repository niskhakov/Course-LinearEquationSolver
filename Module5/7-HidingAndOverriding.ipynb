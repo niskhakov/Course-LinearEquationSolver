{
 "cells": [
  {
   "cell_type": "markdown",
   "metadata": {},
   "source": [
    "# Hiding and Overriding"
   ]
  },
  {
   "cell_type": "markdown",
   "metadata": {},
   "source": [
    "## Overrride instance methods"
   ]
  },
  {
   "cell_type": "code",
   "execution_count": 2,
   "metadata": {},
   "outputs": [],
   "source": [
    "class Mammal {\n",
    "\n",
    "    public String sayHello() {\n",
    "        return \"ohlllalalalalalaoaoaoa\";\n",
    "    }\n",
    "}\n",
    "\n",
    "class Cat extends Mammal {\n",
    "\n",
    "    @Override\n",
    "    public String sayHello() {\n",
    "        return \"meow\";\n",
    "    }\n",
    "}\n",
    "\n",
    "class Human extends Mammal {\n",
    "\n",
    "    @Override\n",
    "    public String sayHello() {\n",
    "        return \"hello\";\n",
    "    }\n",
    "}"
   ]
  },
  {
   "cell_type": "code",
   "execution_count": 3,
   "metadata": {},
   "outputs": [
    {
     "name": "stdout",
     "output_type": "stream",
     "text": [
      "ohlllalalalalalaoaoaoa\n",
      "meow\n",
      "hello\n"
     ]
    }
   ],
   "source": [
    "Mammal mammal = new Mammal();\n",
    "System.out.println(mammal.sayHello()); // it prints \"ohlllalalalalalaoaoaoa\"\n",
    "\n",
    "Cat cat = new Cat();\n",
    "System.out.println(cat.sayHello()); // it prints \"meow\"\n",
    "\n",
    "Human human = new Human();\n",
    "System.out.println(human.sayHello()); // it prints \"hello\""
   ]
  },
  {
   "cell_type": "markdown",
   "metadata": {},
   "source": [
    "## Forbidding overriding"
   ]
  },
  {
   "cell_type": "code",
   "execution_count": 7,
   "metadata": {},
   "outputs": [],
   "source": [
    "public final void method() {\n",
    "    // do something\n",
    "}"
   ]
  },
  {
   "cell_type": "markdown",
   "metadata": {},
   "source": [
    "## Rules for overriding methods"
   ]
  },
  {
   "cell_type": "markdown",
   "metadata": {},
   "source": [
    "* the method must have the same name as in the superclass;\n",
    "* the arguments should be exactly the same as in the superclass method;\n",
    "* the return type should be the same or a subtype of the return type declared in the method of the superclass;\n",
    "* the access level must be the same or more open than the overridden method's access level;\n",
    "* a private method cannot be overridden because it's not inherited by subclasses;\n",
    "* if the superclass and its subclass are in the same package, then package-private methods can be overridden;\n",
    "* static methods cannot be overridden."
   ]
  },
  {
   "cell_type": "markdown",
   "metadata": {},
   "source": [
    "## Overriding and overloading methods together"
   ]
  },
  {
   "cell_type": "code",
   "execution_count": 5,
   "metadata": {},
   "outputs": [],
   "source": [
    "class SuperClass {\n",
    "\n",
    "    public void invokeInstanceMethod() {\n",
    "        System.out.println(\"SuperClass: invokeInstanceMethod\");\n",
    "    }\n",
    "}\n",
    "\n",
    "class SubClass extends SuperClass {\n",
    "\n",
    "    @Override\n",
    "    public void invokeInstanceMethod() {\n",
    "        System.out.println(\"SubClass: invokeInstanceMethod is overridden\");\n",
    "    }\n",
    "    \n",
    "    // @Override -- method doesn't override anything\n",
    "    public void invokeInstanceMethod(String s) {\n",
    "        System.out.println(\"SubClass: overloaded invokeInstanceMethod\");\n",
    "    }\n",
    "}"
   ]
  },
  {
   "cell_type": "code",
   "execution_count": 6,
   "metadata": {},
   "outputs": [
    {
     "name": "stdout",
     "output_type": "stream",
     "text": [
      "SubClass: invokeInstanceMethod is overridden\n",
      "SubClass: overloaded invokeInstanceMethod\n"
     ]
    }
   ],
   "source": [
    "SubClass clazz = new SubClass();\n",
    "\n",
    "clazz.invokeInstanceMethod();    // SubClass: invokeInstanceMethod() is overridden\n",
    "clazz.invokeInstanceMethod(\"s\"); // SubClass: overloaded invokeInstanceMethod(String)"
   ]
  },
  {
   "cell_type": "markdown",
   "metadata": {},
   "source": [
    "## Hiding static members"
   ]
  },
  {
   "cell_type": "markdown",
   "metadata": {},
   "source": [
    "Static methods cannot be overridden. If a subclass has a static method with the same signature (name and parameters) as a static method in the superclass then the method in the subclass hides the one in the superclass. It's completely different from methods overriding."
   ]
  },
  {
   "cell_type": "markdown",
   "metadata": {},
   "source": [
    "You will get a compile-time error if a subclass has a static method with the same signature as an instance method in the superclass or vice versa. But if the methods have the same name but different parameters there are no problems."
   ]
  },
  {
   "cell_type": "markdown",
   "metadata": {},
   "source": [
    "__Saying animals task:__"
   ]
  },
  {
   "cell_type": "code",
   "execution_count": 9,
   "metadata": {},
   "outputs": [],
   "source": [
    "class Animal {\n",
    "\n",
    "    public void say() {}\n",
    "}\n",
    "\n",
    "class Cat extends Animal {\n",
    "\tpublic void say() {\n",
    "    \tSystem.out.println(\"meow-meow\");\n",
    "    }\n",
    "}\n",
    "\n",
    "class Dog extends Animal {\n",
    "    \n",
    "    public void say() {\n",
    "    \tSystem.out.println(\"arf-arf\");\n",
    "    }\n",
    "\n",
    "}\n",
    "\n",
    "class Duck extends Animal {\n",
    "    public void say() {\n",
    "    \tSystem.out.println(\"quack-quack\");\n",
    "    }\n",
    "    \n",
    "\n",
    "}"
   ]
  },
  {
   "cell_type": "markdown",
   "metadata": {},
   "source": [
    "__Shapes area task:__"
   ]
  },
  {
   "cell_type": "code",
   "execution_count": 11,
   "metadata": {},
   "outputs": [],
   "source": [
    "import java.lang.Math;\n",
    "\n",
    "class Shape {\n",
    "\n",
    "    public double area() {\n",
    "        return 0;\n",
    "    }\n",
    "}\n",
    "\n",
    "class Triangle extends Shape {\n",
    "    double height, base;\n",
    "\n",
    "    public double area() {\n",
    "        return height * base / 2;\n",
    "    }\n",
    "\n",
    "}\n",
    "\n",
    "class Circle extends Shape {\n",
    "    double radius;\n",
    "    \n",
    "    public double area() {\n",
    "        return Math.PI * radius * radius;\n",
    "    }\n",
    "\n",
    "}\n",
    "\n",
    "class Square extends Shape {\n",
    "    double side;\n",
    "    \n",
    "    public double area() {\n",
    "        return side * side;\n",
    "    }\n",
    "\n",
    "}\n",
    "\n",
    "class Rectangle extends Shape {\n",
    "    double width, height;\n",
    "    \n",
    "    public double area() {\n",
    "        return width * height;\n",
    "    }\n",
    "}\n"
   ]
  }
 ],
 "metadata": {
  "kernelspec": {
   "display_name": "Java",
   "language": "java",
   "name": "java"
  },
  "language_info": {
   "codemirror_mode": "java",
   "file_extension": ".java",
   "mimetype": "text/x-java-source",
   "name": "Java",
   "pygments_lexer": "java",
   "version": "11.0.2+7-LTS"
  }
 },
 "nbformat": 4,
 "nbformat_minor": 2
}
