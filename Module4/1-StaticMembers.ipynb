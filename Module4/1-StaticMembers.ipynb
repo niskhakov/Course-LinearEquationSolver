{
 "cells": [
  {
   "cell_type": "markdown",
   "metadata": {},
   "source": [
    "# Static members"
   ]
  },
  {
   "cell_type": "markdown",
   "metadata": {},
   "source": [
    "## Static variables"
   ]
  },
  {
   "cell_type": "code",
   "execution_count": 2,
   "metadata": {},
   "outputs": [
    {
     "name": "stdout",
     "output_type": "stream",
     "text": [
      "10\n",
      "it's is a static member\n",
      "30\n"
     ]
    }
   ],
   "source": [
    "class SomeClass {\n",
    "\n",
    "    public static String staticStringField;\n",
    "\n",
    "    public static int staticIntField;\n",
    "} \n",
    "\n",
    "SomeClass.staticIntField = 10;\n",
    "SomeClass.staticStringField = \"it's is a static member\";\n",
    "\n",
    "System.out.println(SomeClass.staticIntField); // It prints \"10\"\n",
    "System.out.println(SomeClass.staticStringField); // It prints \"it's is a static member\"\n",
    "\n",
    "SomeClass.staticIntField = 30;\n",
    "\n",
    "SomeClass instance = new SomeClass();\n",
    "\n",
    "System.out.println(instance.staticIntField); // It prints \"30\""
   ]
  },
  {
   "cell_type": "code",
   "execution_count": 5,
   "metadata": {},
   "outputs": [],
   "source": [
    "import java.util.Date;"
   ]
  },
  {
   "cell_type": "code",
   "execution_count": 7,
   "metadata": {},
   "outputs": [
    {
     "name": "stdout",
     "output_type": "stream",
     "text": [
      "Mon Feb 04 23:57:04 MSK 2019\n",
      "Mon Feb 04 23:57:21 MSK 2019\n",
      "Mon Feb 04 23:57:21 MSK 2019\n"
     ]
    }
   ],
   "source": [
    "public class SomeClass {\n",
    "\n",
    "    public static Date lastCreated;\n",
    "\n",
    "    public SomeClass() {\n",
    "        lastCreated = new Date();\n",
    "    }\n",
    "}\n",
    "\n",
    "System.out.println(SomeClass.lastCreated);\n",
    "\n",
    "SomeClass instance1 = new SomeClass();\n",
    "System.out.println(SomeClass.lastCreated);\n",
    "\n",
    "SomeClass instance2 = new SomeClass();\n",
    "System.out.println(SomeClass.lastCreated); "
   ]
  },
  {
   "cell_type": "markdown",
   "metadata": {},
   "source": [
    "## Class constants"
   ]
  },
  {
   "cell_type": "code",
   "execution_count": 8,
   "metadata": {},
   "outputs": [],
   "source": [
    "class Physics {\n",
    "\n",
    "    /**\n",
    "     * The speed of light in a vacuum (m/s)\n",
    "     */\n",
    "    public static final long SPEED_OF_LIGHT = 299_792_458;\n",
    "\n",
    "    /**\n",
    "     * Electron mass (kg)\n",
    "     */\n",
    "    public static final double ELECTRON_MASS = 9.10938356e-31;\n",
    "}"
   ]
  },
  {
   "cell_type": "markdown",
   "metadata": {},
   "source": [
    "## Class methods"
   ]
  },
  {
   "cell_type": "code",
   "execution_count": 9,
   "metadata": {},
   "outputs": [],
   "source": [
    "public class SomeClass {\n",
    "    \n",
    "    public SomeClass() {\n",
    "        invokeAnInstanceMethod(); // it's possible here\n",
    "        invokeAStaticMethod();    // it's possible here too\n",
    "    }\n",
    "    \n",
    "    public static void invokeAStaticMethod() { \n",
    "        // it's impossible to invoke invokeAnInstanceMethod() here\n",
    "    }\n",
    "    \n",
    "    public void invokeAnInstanceMethod() { \n",
    "        invokeAStaticMethod();  // it's possible too\n",
    "    }\n",
    "}"
   ]
  },
  {
   "cell_type": "markdown",
   "metadata": {},
   "source": [
    "__Project constants and methods task:__"
   ]
  },
  {
   "cell_type": "code",
   "execution_count": 14,
   "metadata": {},
   "outputs": [],
   "source": [
    "class ConstantsAndUtilites {\n",
    "\n",
    "    public static final String A_CONSTANT_TTT = \"Hello\"; // here is a value\n",
    "\n",
    "    public static final String B_CONSTANT_QQQ = \"Mthrfcka\"; // here is another value\n",
    "\n",
    "    public static String getMagicString() {\n",
    "        return \"hello again\"; // a string\n",
    "    }\n",
    "\n",
    "    public static String convertStringToAnotherString(String s) {\n",
    "        return \"it should be last call\";  // a string\n",
    "    }\n",
    "}"
   ]
  },
  {
   "cell_type": "code",
   "execution_count": 16,
   "metadata": {},
   "outputs": [
    {
     "name": "stdout",
     "output_type": "stream",
     "text": [
      "Hello\n",
      "Mthrfcka\n",
      "hello again\n",
      "it should be last call\n"
     ]
    }
   ],
   "source": [
    "System.out.println(ConstantsAndUtilites.A_CONSTANT_TTT);\n",
    "System.out.println(ConstantsAndUtilites.B_CONSTANT_QQQ);\n",
    "System.out.println(ConstantsAndUtilites.getMagicString());\n",
    "System.out.println(ConstantsAndUtilites.convertStringToAnotherString(\"someString\"));"
   ]
  },
  {
   "cell_type": "markdown",
   "metadata": {},
   "source": [
    "__Too many cats task:__"
   ]
  },
  {
   "cell_type": "code",
   "execution_count": 17,
   "metadata": {},
   "outputs": [],
   "source": [
    "class Cat {\n",
    "\n",
    "    public String name;\n",
    "    public int age;\n",
    "    public static int counter = 0;\n",
    "\n",
    "    public Cat(String name, int age) {\n",
    "        // implement the constructor\n",
    "        // do not forgot to check the number of cats\n",
    "        this.name = name;\n",
    "        this.age = age;\n",
    "        counter++;\n",
    "        if(counter > 5) \n",
    "            System.out.println(\"You have too many cats\");\n",
    "        \n",
    "    }\n",
    "\n",
    "    public static int getNumberOfCats() {\n",
    "        return counter;\n",
    "    }\n",
    "}"
   ]
  },
  {
   "cell_type": "markdown",
   "metadata": {},
   "source": [
    "__Dollar task:__"
   ]
  },
  {
   "cell_type": "code",
   "execution_count": null,
   "metadata": {},
   "outputs": [],
   "source": [
    "class Dollar{\n",
    "    public static int count = 0;\n",
    "\n",
    "    public Dollar(){\n",
    "        count++;\n",
    "    }\n",
    "    \n",
    "    public static void getMoney(){\n",
    "        for(int i = 0; i < 1000; i++){\n",
    "            new Dollar();\n",
    "        }\n",
    "    }\n",
    "} "
   ]
  }
 ],
 "metadata": {
  "kernelspec": {
   "display_name": "Java",
   "language": "java",
   "name": "java"
  },
  "language_info": {
   "codemirror_mode": "java",
   "file_extension": ".java",
   "mimetype": "text/x-java-source",
   "name": "Java",
   "pygments_lexer": "java",
   "version": "11.0.2+9-LTS"
  }
 },
 "nbformat": 4,
 "nbformat_minor": 2
}
